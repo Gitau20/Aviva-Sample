{
  "nbformat": 4,
  "nbformat_minor": 0,
  "metadata": {
    "colab": {
      "provenance": [],
      "authorship_tag": "ABX9TyNaTTDo1SeWmU6MUS1h75in",
      "include_colab_link": true
    },
    "kernelspec": {
      "name": "python3",
      "display_name": "Python 3"
    },
    "language_info": {
      "name": "python"
    }
  },
  "cells": [
    {
      "cell_type": "markdown",
      "metadata": {
        "id": "view-in-github",
        "colab_type": "text"
      },
      "source": [
        "<a href=\"https://colab.research.google.com/github/Gitau20/Aviva-Sample/blob/main/Paper_Folding_Problem.ipynb\" target=\"_parent\"><img src=\"https://colab.research.google.com/assets/colab-badge.svg\" alt=\"Open In Colab\"/></a>"
      ]
    },
    {
      "cell_type": "markdown",
      "source": [
        "# **FOLD PAPER**\n",
        "It is said that if you continue to fold a piece of paper, its thickness will increase, and that it would reach the moon if you folded it 43 times, but it is difficult to manually calculate the thickness of a piece of paper when it is folded 43 times.\n",
        "\n",
        "In this assignment, you will create a program that calculates the thickness of a piece of paper when it is folded 43 times .\n",
        "\n",
        "t\n",
        "43\n",
        "=\n",
        "t\n",
        "0\n",
        "×\n",
        "2^(43)\n",
        "\n",
        "The thickness of the paper before folding is 0.00008m , which is the thickness of typical copy paper.\n",
        "\n",
        "# CALCULATING THICKNESS OF A PAPER\n",
        "In programming, the same action can be expressed in various ways. This time, we will use the following two.\n",
        "\n",
        "1. Use the arithmetic exponentiation operator\n",
        "2. Use for statement\n",
        "\n",
        "[Problem 1] Implementation using arithmetic operators of powers\n",
        "Please create a program using the power arithmetic operator.\n",
        "We have prepared a template code to calculate the thickness of a piece of paper folded once. Please rewrite this code to calculate the thickness when folded 43 times."
      ],
      "metadata": {
        "id": "8Mi6Ryve-jTB"
      }
    },
    {
      "cell_type": "code",
      "execution_count": null,
      "metadata": {
        "colab": {
          "base_uri": "https://localhost:8080/"
        },
        "id": "yvqVtUK4-esj",
        "outputId": "9c8eb214-33f8-4d43-9ee9-4384d310b5c2"
      },
      "outputs": [
        {
          "output_type": "stream",
          "name": "stdout",
          "text": [
            "Thickness: 703687441.77664 meters\n"
          ]
        }
      ],
      "source": [
        "THICKNESS = 0.00008\n",
        "folded_thickness = THICKNESS * 2**43\n",
        "print(\"Thickness:\", folded_thickness, \"meters\")"
      ]
    },
    {
      "cell_type": "markdown",
      "source": [
        "[Question 2] Unit conversion\n",
        "\n",
        "It's hard to get a sense of it when the unit is meters, so please convert it to XXX million kilometers and display it.\n",
        "\n",
        "We have prepared a sample code that converts the value to XXX kilometers , so please use it as a reference. We have specified that up to two decimal places are displayed."
      ],
      "metadata": {
        "id": "Aag_0mae_1lc"
      }
    },
    {
      "cell_type": "code",
      "source": [
        "print('Thickness:{:.2f} Kilometers'.format(folded_thickness/1000))"
      ],
      "metadata": {
        "colab": {
          "base_uri": "https://localhost:8080/"
        },
        "id": "TQrxislV_39U",
        "outputId": "725d376a-4899-4675-89d6-b45d7dc78b4c"
      },
      "execution_count": null,
      "outputs": [
        {
          "output_type": "stream",
          "name": "stdout",
          "text": [
            "Thickness:703687.44 Kilometers\n"
          ]
        }
      ]
    },
    {
      "cell_type": "markdown",
      "source": [
        "The distance to the Moon is approximately 384,400 km. See if your folded piece of paper can reach the Moon."
      ],
      "metadata": {
        "id": "pSrXd3kqAgxN"
      }
    },
    {
      "cell_type": "code",
      "source": [
        "moon_distance = 384400\n",
        "\n",
        "\n",
        "reach_moon = moon_distance/(folded_thickness/1000)\n",
        "print(reach_moon)\n",
        "\n",
        "if folded_thickness>= moon_distance:\n",
        "  print(f'Yes! The folded paper reaches the moon.\\n.Final thickness: {folded_thickness/1000:.2f} kilometers')\n",
        "else:\n",
        "  print(f'No! The folded paper does not reach the moon.\\n.Final thickness: {folded_thickness/1000:.2f} kilometers')\n",
        "\n"
      ],
      "metadata": {
        "colab": {
          "base_uri": "https://localhost:8080/"
        },
        "id": "hqMbWJSoAiKq",
        "outputId": "3e06e6cd-aebf-451d-ad65-fbb3bb9023af"
      },
      "execution_count": null,
      "outputs": [
        {
          "output_type": "stream",
          "name": "stdout",
          "text": [
            "0.546265255252365\n",
            "Yes! The folded paper reaches the moon.\n",
            ".Final thickness: 703687.44 kilometers\n"
          ]
        }
      ]
    },
    {
      "cell_type": "markdown",
      "source": [
        "The folded paper more than reaches the moon."
      ],
      "metadata": {
        "id": "dFIBewrvCQRP"
      }
    },
    {
      "cell_type": "markdown",
      "source": [
        "[Question 3] Create using a for statement\n",
        "\n",
        "Next, create a program using the for statement.\n",
        "\n",
        "Do not use arithmetic operators of powers. Only the four arithmetic operators ( +, -, *, /) can be used."
      ],
      "metadata": {
        "id": "UDoL_OdGD5-G"
      }
    },
    {
      "cell_type": "code",
      "source": [
        "THICKNESS = 0.00008 # paper thickness in meters\n",
        "folds = 43 # number of folds\n",
        "moon_distance = 384400*1000 # distance to the moon in meters\n",
        "\n",
        "# Using for loop to calculate folded_thickness\n",
        "folded_thickness = THICKNESS\n",
        "\n",
        "for _ in range(folds):\n",
        "  folded_thickness *=2 # each fold doubling\n",
        "\n",
        "# Check if each folded paper reaches the moon\n",
        "if folded_thickness >= moon_distance:\n",
        "  print(f'Yes! The folded paper reaches the moon.\\n.Final thickness: {folded_thickness/1000:.2f} kilometers')\n",
        "\n",
        "else:\n",
        "  print(f'No! The folded paper does not reach the moon.\\n.Final thickness: {folded_thickness/1000:.2f} kilometers')\n"
      ],
      "metadata": {
        "colab": {
          "base_uri": "https://localhost:8080/"
        },
        "id": "iJtTLfbUA1-U",
        "outputId": "49fbbf82-f498-4e9b-87d3-7ab1a4dae926"
      },
      "execution_count": null,
      "outputs": [
        {
          "output_type": "stream",
          "name": "stdout",
          "text": [
            "Yes! The folded paper reaches the moon.\n",
            ".Final thickness: 703687.44 kilometers\n"
          ]
        }
      ]
    },
    {
      "cell_type": "markdown",
      "source": [
        "[Problem 4] Comparison of calculation times\n",
        "Both of the above methods are correct, but when comparing the quality of code, it is evaluated based on the following points, for example:\n",
        "\n",
        "- Execution speed\n",
        "- Memory usage\n",
        "- readability\n",
        "- Scalability\n",
        "- Recyclability\n",
        "\n",
        "This time we will compare the execution speed."
      ],
      "metadata": {
        "id": "OTBgEJCuH6Y8"
      }
    },
    {
      "cell_type": "code",
      "source": [
        "import time\n",
        "start = time.time()\n",
        "## Method 1 Using Power Operator\n",
        "THICKNESS = 0.00008\n",
        "folded_thickness_power = THICKNESS * 2**43\n",
        "print(\"Thickness:\", folded_thickness_power, \"meters\")\n",
        "\n",
        "elapsed_time_power = time.time() - start\n",
        "print(\"Method 1 time: {}[s]\".format(elapsed_time_power))\n",
        "\n",
        "## Method 2 Using For Loop\n",
        "start = time.time()\n",
        "folded_thickness_loop = THICKNESS\n",
        "for _ in range(43):\n",
        "  folded_thickness_loop *= 2\n",
        "elapsed_time_loop = time.time() - start\n",
        "print(\"Method 2 time: {}[s]\".format(elapsed_time_loop))\n",
        "\n",
        "# Compare results\n",
        "print(\"\\nFinal Thickness (Power Operator): {:.2f} meters\".format(folded_thickness_power))\n",
        "print(\"Final Thickness (For Loop): {:.2f} meters\".format(folded_thickness_loop))\n",
        "\n",
        "if folded_thickness_power == folded_thickness_loop:\n",
        "    print(\"\\nBoth methods produce the same result.\")\n",
        "else:\n",
        "    print(\"\\nResults differ!\")\n",
        "\n",
        "# Compare speed\n",
        "if elapsed_time_power < elapsed_time_loop:\n",
        "    print(\"Power operator method is faster.\")\n",
        "else:\n",
        "    print(\"For loop method is faster.\")"
      ],
      "metadata": {
        "colab": {
          "base_uri": "https://localhost:8080/"
        },
        "id": "hYJdFFisIM9N",
        "outputId": "8d051a64-42b7-450c-cf81-fb7d459df645"
      },
      "execution_count": null,
      "outputs": [
        {
          "output_type": "stream",
          "name": "stdout",
          "text": [
            "Thickness: 703687441.77664 meters\n",
            "Method 1 time: 0.0002925395965576172[s]\n",
            "Method 2 time: 9.250640869140625e-05[s]\n",
            "\n",
            "Final Thickness (Power Operator): 703687441.78 meters\n",
            "Final Thickness (For Loop): 703687441.78 meters\n",
            "\n",
            "Both methods produce the same result.\n",
            "For loop method is faster.\n"
          ]
        }
      ]
    },
    {
      "cell_type": "markdown",
      "source": [
        "《Advanced: Increase the number of repetitions》\n",
        "\n",
        "It may be difficult to see the difference between the two after folding the paper 43 times. In that case, try folding the paper more times to see the difference more clearly.\n",
        "\n"
      ],
      "metadata": {
        "id": "JDaycMq7NLLi"
      }
    },
    {
      "cell_type": "markdown",
      "source": [
        "《Advanced: Using Magic Commands》\n",
        "\n",
        "Execution time may vary slightly each time it is run, so it is common to measure it multiple times. It timecan also be implemented by combining modules and for statements. In Jupyter Notebook, it can also be measured %timeitusing the magic command . Magic commands are a feature unique to Jupyter Notebook that is not available in the standard Python execution system."
      ],
      "metadata": {
        "id": "Sb2OWDO7NzzW"
      }
    },
    {
      "cell_type": "code",
      "source": [
        "%%timeit\n",
        "THICKNESS = 0.00008 # Paper thickness in meters\n",
        "folds = 1000 # Increasing the number of folds from 43 to 1000\n",
        "# Using Method 1\n",
        "folded_thickness_power = THICKNESS * (2**folds)\n"
      ],
      "metadata": {
        "colab": {
          "base_uri": "https://localhost:8080/"
        },
        "id": "m7mBPQFJN0bs",
        "outputId": "607cf8b7-a50a-498e-df7f-e6500ce78968"
      },
      "execution_count": null,
      "outputs": [
        {
          "output_type": "stream",
          "name": "stdout",
          "text": [
            "867 ns ± 46.6 ns per loop (mean ± std. dev. of 7 runs, 1000000 loops each)\n"
          ]
        }
      ]
    },
    {
      "cell_type": "code",
      "source": [
        "%%timeit\n",
        "THICKNESS = 0.00008 # Paper thickness in meters\n",
        "folds = 1000 # Increasing the number of folds from 43 to 1000\n",
        "\n",
        "# Using Method 2\n",
        "folded_thickness_loop = THICKNESS\n",
        "for _ in range(folds):\n",
        "  folded_thickness_loop *= 2"
      ],
      "metadata": {
        "colab": {
          "base_uri": "https://localhost:8080/"
        },
        "id": "-XQDPF2qPnvZ",
        "outputId": "ece8726c-eda5-423f-d68d-43aacc0aa6bf"
      },
      "execution_count": null,
      "outputs": [
        {
          "output_type": "stream",
          "name": "stdout",
          "text": [
            "49.7 µs ± 650 ns per loop (mean ± std. dev. of 7 runs, 10000 loops each)\n"
          ]
        }
      ]
    },
    {
      "cell_type": "markdown",
      "source": [
        "The power operator (method 1) is faster than for loop (method 2)."
      ],
      "metadata": {
        "id": "-ugswIx5Qujk"
      }
    },
    {
      "cell_type": "markdown",
      "source": [
        "# **Graph Visualization**\n",
        "The thickness is recorded each time it is folded and visualized in a line graph.\n",
        "\n",
        "Generalizing the formula, the thickness $t_{n}$ of a piece of paper after being folded $n$ times can be expressed as follows:\n",
        "\n",
        "\\[t_{n} = t_{0}×2^{n}\\]\n",
        "This is an exponential function, so let's look at a graph to see how the thickness increases exponentially as we reach the Moon.\n",
        "\n",
        "[Problem 5] Saving to a list\n",
        "\n",
        "So far, we have only used the final value after 43 folds, but to visualize it on a graph, we also need the process values. Add code that records the total of 44 process values ​​to the code using the for statement.\n",
        "\n",
        "Hint:\n",
        "\n",
        "- First, create an empty list.\n",
        "- Next, add the pre-fold value to the list.\n",
        "- In the for statement, the values ​​of the paper folding process up to n times are added to a list.\n",
        "\n",
        "Let's use a len function to confirm that 44 values ​​are ultimately stored in the list ."
      ],
      "metadata": {
        "id": "2OfwqiyARMiD"
      }
    },
    {
      "cell_type": "code",
      "source": [
        "import matplotlib.pyplot as plt\n",
        "\n",
        "THICKNESS = 0.000008 # paper thickness in meters\n",
        "folds = 43 # number of folds\n",
        "folded_thickness_list = [THICKNESS] # Create an empty list to store values and adding pre-fold value to the list\n",
        "\n",
        "# Performing The Folded Process Using For Loop\n",
        "for _ in range(folds):\n",
        "  THICKNESS *= 2 # Double in Thickness\n",
        "  folded_thickness_list.append(THICKNESS) # save to list\n",
        "print('Values Stored:',len(folded_thickness_list))\n",
        "\n",
        "# Plotting The Graph\n",
        "\n",
        "import matplotlib.pyplot as plt\n",
        "%matplotlib inline\n",
        "plt.title(\"thickness of folded paper\")\n",
        "plt.xlabel(\"number of folds\")\n",
        "plt.ylabel(\"thickness [m]\")\n",
        "plt.plot(folded_thickness_list)\n",
        "plt.show()"
      ],
      "metadata": {
        "colab": {
          "base_uri": "https://localhost:8080/",
          "height": 489
        },
        "id": "gdN_amKZRKOh",
        "outputId": "e2913408-ff99-4649-c642-e1d7c8a30332"
      },
      "execution_count": null,
      "outputs": [
        {
          "output_type": "stream",
          "name": "stdout",
          "text": [
            "Values Stored: 44\n"
          ]
        },
        {
          "output_type": "display_data",
          "data": {
            "text/plain": [
              "<Figure size 640x480 with 1 Axes>"
            ],
            "image/png": "[encoded data removed]"
          },
          "metadata": {}
        }
      ]
    },
    {
      "cell_type": "markdown",
      "source": [
        "At first, the growth is slow.\n",
        "\n",
        "After 10-30 folds, the thickness rapidly increases.\n",
        "\n",
        "By 43 folds, the paper far exceeds the distance to the Moon\n",
        "\n",
        "This demonstrates exponential growth, where small increases at first explode into massive changes later"
      ],
      "metadata": {
        "id": "82kutwcGUVoy"
      }
    },
    {
      "cell_type": "markdown",
      "source": [
        "[Question 7] Customizing graphs\n",
        "\n",
        "Let's customize the graph to make it easier to read. Create at least three customized graphs. For example, you can change the line color to red by rewriting it as follows."
      ],
      "metadata": {
        "id": "KNjF74zAUip1"
      }
    },
    {
      "cell_type": "code",
      "source": [
        "# Display a red line graph.\n",
        "plt.title(\"thickness of folded paper\")\n",
        "plt.xlabel(\"number of folds\")\n",
        "plt.ylabel(\"thickness [m]\")\n",
        "plt.plot(folded_thickness_list, color='red', marker='o', linestyle='-')\n",
        "plt.show()"
      ],
      "metadata": {
        "colab": {
          "base_uri": "https://localhost:8080/",
          "height": 472
        },
        "id": "JlkMQvXpUeRS",
        "outputId": "31690745-eee6-4ab4-8292-99d30dfae492"
      },
      "execution_count": null,
      "outputs": [
        {
          "output_type": "display_data",
          "data": {
            "text/plain": [
              "<Figure size 640x480 with 1 Axes>"
            ],
            "image/png": "[encoded data removed]"
          },
          "metadata": {}
        }
      ]
    },
    {
      "cell_type": "markdown",
      "source": [
        "<<Customization Example>>\n",
        "\n",
        "- Use a line color other than blue and red.\n",
        "- Make the lines thicker.\n",
        "- Make the line dotted.\n",
        "- Change the font size of the value."
      ],
      "metadata": {
        "id": "FVnJ660nYufd"
      }
    },
    {
      "cell_type": "code",
      "source": [
        "import matplotlib.pyplot as plt\n",
        "plt.figure(figsize=(10, 5))\n",
        "plt.title(\"Thickness of Folded Paper\", fontsize=16)\n",
        "plt.xlabel(\"number of folds\", fontsize=14)\n",
        "plt.ylabel(\"thickness [m]\", fontsize=14)\n",
        "plt.tick_params(labelsize=20)\n",
        "plt.plot(folded_thickness_list, color='orange', marker='o', linestyle=':', linewidth=3, markersize=6)"
      ],
      "metadata": {
        "colab": {
          "base_uri": "https://localhost:8080/",
          "height": 525
        },
        "id": "1d62occyWLoA",
        "outputId": "3633584c-4ae5-4c8b-9bac-84cab43c20de"
      },
      "execution_count": null,
      "outputs": [
        {
          "output_type": "execute_result",
          "data": {
            "text/plain": [
              "[<matplotlib.lines.Line2D at 0x7f4012da4750>]"
            ]
          },
          "metadata": {},
          "execution_count": 36
        },
        {
          "output_type": "display_data",
          "data": {
            "text/plain": [
              "<Figure size 1000x500 with 1 Axes>"
            ],
            "image/png": "[encoded data removed]"
          },
          "metadata": {}
        }
      ]
    },
    {
      "cell_type": "code",
      "source": [],
      "metadata": {
        "id": "AnToRuiBj853"
      },
      "execution_count": null,
      "outputs": []
    }
  ]
}