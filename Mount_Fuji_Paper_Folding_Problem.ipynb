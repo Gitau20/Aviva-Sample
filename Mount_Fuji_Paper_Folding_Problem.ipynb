{
  "nbformat": 4,
  "nbformat_minor": 0,
  "metadata": {
    "colab": {
      "provenance": [],
      "authorship_tag": "ABX9TyPl+psSSnp0v/bRRKjIK1Il",
      "include_colab_link": true
    },
    "kernelspec": {
      "name": "python3",
      "display_name": "Python 3"
    },
    "language_info": {
      "name": "python"
    }
  },
  "cells": [
    {
      "cell_type": "markdown",
      "metadata": {
        "id": "view-in-github",
        "colab_type": "text"
      },
      "source": [
        "<a href=\"https://colab.research.google.com/github/Gitau20/Aviva-Sample/blob/main/Mount_Fuji_Paper_Folding_Problem.ipynb\" target=\"_parent\"><img src=\"https://colab.research.google.com/assets/colab-badge.svg\" alt=\"Open In Colab\"/></a>"
      ]
    },
    {
      "cell_type": "markdown",
      "source": [
        "# ** MOUNT FUJI PAPER FOLDING PROBLEM**\n",
        "How many times would it take to fold it to surpass Mount Fuji?\n",
        "\n",
        "For the \"Let's try using Python\" assignment, students implemented a program to calculate the thickness of a piece of paper when folded 43 times, and confirmed that it would reach the moon if it were folded 43 times.\n",
        "\n",
        "Now let's implement a program that calculates \"how many times do we need to fold it to reach the desired thickness.\"\n",
        "\n",
        "# Formula for thickness of folded paper\n",
        "\n",
        "If the thickness of a piece of paper when it is diffracted $n$ times is $t_{n}$, it can be expressed as follows:\n",
        "$t_{n}\n",
        "=\n",
        "t_{0}\n",
        "×\n",
        "2^n$\n",
        "\n",
        "The thickness of typical copy paper is approximately 0.00008m , so we set $t_{0} = 0.00008$."
      ],
      "metadata": {
        "id": "r6ZpKEjT7UPw"
      }
    },
    {
      "cell_type": "markdown",
      "source": [
        "# Question 1\n",
        "How many times would it take to fold it to surpass Mount Fuji?\n",
        "Write a program to calculate the minimum number of times a piece of paper needs to be folded so that its thickness exceeds the height of Mt. Fuji (3,776 m).\n",
        "\n"
      ],
      "metadata": {
        "id": "BEm3seCG8Ric"
      }
    },
    {
      "cell_type": "code",
      "source": [
        "def minimum_folds_to_exceed_height(initial_thickness:float, mt_fuji_height:float) ->int:\n",
        "  \"\"\"\n",
        "    Calculates the minimum number of folds required for a paper to surpass a given height.\n",
        "\n",
        "    Parameters\n",
        "    ----------\n",
        "        initial_thickness : float\n",
        "            The initial thickness of the paper in meters.\n",
        "        target_height : float\n",
        "            The target height to surpass in meters.\n",
        "\n",
        "    Returns\n",
        "    ----------\n",
        "        int: The minimum number of folds required.\n",
        "    \"\"\"\n",
        "  folds = 0\n",
        "  while initial_thickness <= mt_fuji_height:\n",
        "        initial_thickness *= 2\n",
        "        folds += 1\n",
        "  return folds\n",
        "\n",
        "# Usage on Mt Fuji height\n",
        "initial_thickness = 0.00008 # paper thickness in meters\n",
        "mt_fuji_height = 3776 # Mt Fuji height in meters\n",
        "folds_needed = minimum_folds_to_exceed_height(initial_thickness, mt_fuji_height)\n",
        "\n",
        "print(f\"It would take {folds_needed} folds to exceed Mt. Fuji.\")"
      ],
      "metadata": {
        "colab": {
          "base_uri": "https://localhost:8080/"
        },
        "id": "9WrDPU9a92MP",
        "outputId": "31577ff9-fa21-4324-af89-c41c14354468"
      },
      "execution_count": 9,
      "outputs": [
        {
          "output_type": "stream",
          "name": "stdout",
          "text": [
            "It would take 26 folds to exceed Mt. Fuji.\n",
            "Minimum number of folds needed to surpass Mount Fuji: 26\n"
          ]
        }
      ]
    },
    {
      "cell_type": "markdown",
      "source": [
        "# Problem 2\n",
        "Function corresponding to an arbitrary thickness\n",
        "\n",
        "Implement a function that takes a height as input and outputs the minimum number of times the paper needs to be folded to exceed that height. You should also be able to set the thickness before folding $t_{0}$ as an argument.\n",
        "\n",
        "Use this function to calculate how many times you need to fold a piece of paper to reach the \"nearest star other than the Sun.\n",
        "\" The \"nearest star other than the Sun\" is \"Proxima Centauri,\" which is approximately $4.0175 \\times 10^{16}$m away from Earth."
      ],
      "metadata": {
        "id": "a3oiBmti_tCR"
      }
    },
    {
      "cell_type": "code",
      "source": [
        "def minimum_folds_to_exceed_height(height, t0=0.00008):\n",
        "    folds = 0\n",
        "    initial_thickness = t0\n",
        "    while initial_thickness <= height:\n",
        "        initial_thickness *= 2\n",
        "        folds += 1\n",
        "    return folds\n",
        "\n",
        "# Distance to Proxima Centauri in meters\n",
        "proxima_centauri_distance = 4.0175e16\n",
        "\n",
        "# Calculate the minimum number of folds\n",
        "folds_to_proxima = minimum_folds_to_exceed_height(proxima_centauri_distance)\n",
        "\n",
        "print(f\"Minimum folds needed to reach Proxima Centauri: {folds_to_proxima}\")"
      ],
      "metadata": {
        "colab": {
          "base_uri": "https://localhost:8080/"
        },
        "id": "BB7dftf0BPGv",
        "outputId": "6662e036-05c0-41f3-85cb-f06e6da7d68f"
      },
      "execution_count": 11,
      "outputs": [
        {
          "output_type": "stream",
          "name": "stdout",
          "text": [
            "Minimum folds needed to reach Proxima Centauri: 69\n"
          ]
        }
      ]
    },
    {
      "cell_type": "markdown",
      "source": [
        "# Question 3\n",
        "Required length of paper\n",
        "In reality, most paper you see around you can't fold it 10 times, let alone 43 times. However, the larger the piece of paper, the more folds you can make, and there is a formula for calculating the number of folds you can make when folding a long piece of paper, like toilet paper, in one direction.\n",
        "\n",
        "The length L of a piece of paper needed to diffract a beam of thickness $t_{0}$ n times can be calculated using the following formula:\n",
        "\n",
        "$L\n",
        "=\n",
        "(π\n",
        "t_0)/\n",
        "6\n",
        "(\n",
        "2^n\n",
        "+\n",
        "4\n",
        ")\n",
        "(\n",
        "2^n\n",
        "−\n",
        "1\n",
        ")$\n",
        "\n",
        "Use this formula to implement a function that will actually fold a piece of paper to reach a given thickness.\n",
        "\n",
        "Then use this to find the length of paper needed to reach the Moon, Mount Fuji, or the nearest star other than the Sun.\n",
        "\n",
        "Hint:\n",
        "\n",
        "The number of folds, n, appears in this formula, and this n is calculated using the function we created earlier. It is possible to use functions within functions."
      ],
      "metadata": {
        "id": "Q5mdUq6pCJVA"
      }
    },
    {
      "cell_type": "code",
      "source": [
        "import math\n",
        "\n",
        "def required_length_for_folds(n, t0=0.00008):\n",
        "  L = (math.pi * t0 / 6) * ((2**n) + 4) * ((2**n) - 1)\n",
        "  return L\n",
        "\n",
        "# Usage: Find the length of paper needed to reach the Moon\n",
        "moon_distance = 384400000 # Moon distance in meters\n",
        "folds_to_moon = minimum_folds_to_exceed_height(moon_distance) # number of folds needed\n",
        "length_to_moon = required_length_for_folds(folds_to_moon) # length of paper needed to reach the moon\n",
        "\n",
        "# Find the length of paper needed to reach Mt Fuji\n",
        "mt_fuji_height = 3776 # Mt Fuji height in meters\n",
        "folds_to_fuji = minimum_folds_to_exceed_height(mt_fuji_height) # number of folds needed\n",
        "length_to_fuji = required_length_for_folds(folds_to_fuji) # length of paper needed to reach Mt Fuji\n",
        "\n",
        "# Find the length of paper to reach Proxima Centauri\n",
        "proxima_centauri_distance = 4.0175e16\n",
        "folds_to_proxima = minimum_folds_to_exceed_height(proxima_centauri_distance)\n",
        "length_to_proxima = required_length_for_folds(folds_to_proxima)\n",
        "\n",
        "print(f'Length of paper needed to reach the moon {length_to_moon} meters')\n",
        "print(f'Length of paper needed to reach Mt Fuji {length_to_fuji} meters')\n",
        "print(f'Length of paper needed to reach Proxima Centauri {length_to_proxima} meters')"
      ],
      "metadata": {
        "colab": {
          "base_uri": "https://localhost:8080/"
        },
        "id": "RU-fNIAsC5Er",
        "outputId": "6bc59db3-0931-4365-ef42-467be9362a5a"
      },
      "execution_count": 13,
      "outputs": [
        {
          "output_type": "stream",
          "name": "stdout",
          "text": [
            "Length of paper needed to reach the moon 3.240919444170781e+21 meters\n",
            "Length of paper needed to reach Mt Fuji 188646348487.24017 meters\n",
            "Length of paper needed to reach Proxima Centauri 1.4595803601100348e+37 meters\n"
          ]
        }
      ]
    }
  ]
}