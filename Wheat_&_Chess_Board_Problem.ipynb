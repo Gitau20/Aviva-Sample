{
  "nbformat": 4,
  "nbformat_minor": 0,
  "metadata": {
    "colab": {
      "provenance": [],
      "authorship_tag": "ABX9TyN6manle9tpYf6+KVrJJelw",
      "include_colab_link": true
    },
    "kernelspec": {
      "name": "python3",
      "display_name": "Python 3"
    },
    "language_info": {
      "name": "python"
    }
  },
  "cells": [
    {
      "cell_type": "markdown",
      "metadata": {
        "id": "view-in-github",
        "colab_type": "text"
      },
      "source": [
        "<a href=\"https://colab.research.google.com/github/Gitau20/Aviva-Sample/blob/main/Wheat_%26_Chess_Board_Problem.ipynb\" target=\"_parent\"><img src=\"https://colab.research.google.com/assets/colab-badge.svg\" alt=\"Open In Colab\"/></a>"
      ]
    },
    {
      "cell_type": "markdown",
      "source": [
        "# Wheat and the Chessboard Problem\n",
        "Similar to the story of Sorori Shinzaemon's rice, there is the story of wheat and a chessboard. Using this story, we will become familiar with how to use NumPy , a numerical calculation library for handling multidimensional arrays.\n",
        "\n",
        "If a chessboard were to have wheat placed upon each square such that one grain were placed on the first square, two on the second, four on the third, and so on (doubling the number of grains on each subsequent square), how many grains of wheat would be on the chessboard at the finish?\n",
        "\n",
        "The question is: What will the final amount of wheat be if you place grains of wheat 1, 2, 4 in that order on an 8x8 chessboard?"
      ],
      "metadata": {
        "id": "wzmfzj2RsIe_"
      }
    },
    {
      "cell_type": "markdown",
      "source": [
        "# Think in small blocks\n",
        "First, imagine arranging grains of wheat on a board with four squares. Each element of the array (list) is likened to one square.\n",
        "\n",
        "You can create it using Python lists and a for statement like this:"
      ],
      "metadata": {
        "id": "JGCeH0M2sex-"
      }
    },
    {
      "cell_type": "code",
      "execution_count": 2,
      "metadata": {
        "colab": {
          "base_uri": "https://localhost:8080/"
        },
        "id": "scw35_IAhVpJ",
        "outputId": "dc367c43-a066-4d88-a432-39754b43042d"
      },
      "outputs": [
        {
          "output_type": "stream",
          "name": "stdout",
          "text": [
            "Arrange wheat on a 4 squared board(list):[1, 2, 4, 8]\n"
          ]
        }
      ],
      "source": [
        "n_squares = 4\n",
        "small_board_list = [1]\n",
        "for _ in range(n_squares - 1):\n",
        "    small_board_list.append(small_board_list[-1] * 2)\n",
        "print('Arrange wheat on a 4 squared board(list):{}'.format(small_board_list))"
      ]
    },
    {
      "cell_type": "markdown",
      "source": [
        "Create an ndarray using this list"
      ],
      "metadata": {
        "id": "lv8y2zRWtr5O"
      }
    },
    {
      "cell_type": "code",
      "source": [
        "import numpy as np\n",
        "\n",
        "small_board_ndarray = np.array(small_board_list)\n",
        "print('Arrange wheat on a 4 squared board(ndarray):{}'.format(small_board_ndarray))"
      ],
      "metadata": {
        "colab": {
          "base_uri": "https://localhost:8080/"
        },
        "id": "-znNHtvotqQ5",
        "outputId": "69c67af8-459d-4fcc-d7a1-1ed33ac54909"
      },
      "execution_count": 3,
      "outputs": [
        {
          "output_type": "stream",
          "name": "stdout",
          "text": [
            "Arrange wheat on a 4 squared board(ndarray):[1 2 4 8]\n"
          ]
        }
      ]
    },
    {
      "cell_type": "markdown",
      "source": [
        "# Question 1 The amount of wheat on a 2x2 chessboard\n",
        "Represent a 2x2 chessboard as an ndarray and calculate the number of wheat in each square. After placing one wheat in the top left square, move on to the right, two to the bottom left, four to the bottom right, and so on.\n",
        "\n",
        "Please change the shape of the ndarray created in the sample code."
      ],
      "metadata": {
        "id": "gBk9hWEvuL_6"
      }
    },
    {
      "cell_type": "code",
      "source": [
        "n_squares = 4 # 2*2 board has 4 squares\n",
        "\n",
        "small_board_list = [1] # creating a list representation\n",
        "for _ in range(n_squares - 1):\n",
        "    small_board_list.append(small_board_list[-1] * 2)\n",
        "\n",
        "# convert list to ndarray and reshape into 2*2\n",
        "small_board_ndarray = np.array(small_board_list).reshape(2,2)\n",
        "print('Arrange wheat on a 2by2 chessboard(ndarray):{}'.format(small_board_ndarray))"
      ],
      "metadata": {
        "colab": {
          "base_uri": "https://localhost:8080/"
        },
        "id": "2p8CdW-pwK0g",
        "outputId": "60f5d666-497a-435d-9a1d-55098f763339"
      },
      "execution_count": 4,
      "outputs": [
        {
          "output_type": "stream",
          "name": "stdout",
          "text": [
            "Arrange wheat on a 2by2 chessboard(ndarray):[[1 2]\n",
            " [4 8]]\n"
          ]
        }
      ]
    },
    {
      "cell_type": "markdown",
      "source": [
        "# 8x8 chessboard\n",
        "Problem 2 - Expansion to n×m squares\n",
        "\n",
        "Create a function that returns an ndarray containing the number of grains on an nxm chessboard. Then use this function to find the number of grains on an 8x8 chessboard."
      ],
      "metadata": {
        "id": "nzSmAXWBxW7o"
      }
    },
    {
      "cell_type": "code",
      "source": [
        "import numpy as np\n",
        "\n",
        "def wheat_chessboard(n,m):\n",
        "  ''' Return an n*m ndarray with the number of wheat grains on each square'''\n",
        "  total_squares = n*m\n",
        "  wheat_list = [1] # starting with 1 wheat grain on the first square\n",
        "\n",
        "  for _ in range(total_squares - 1):\n",
        "    wheat_list.append(wheat_list[-1] * 2) # double each time\n",
        "\n",
        "  return np.array(wheat_list).reshape(n,m) # reshape to n*m\n",
        "\n",
        "# Create a 8*8 chessboard\n",
        "chessboard_88 = wheat_chessboard(8,8)\n",
        "\n",
        "# Return Results\n",
        "print('8*8 chessboard with grains:\\n', chessboard_88)\n",
        "print('Total grains on the chessboard:', chessboard_88.sum())"
      ],
      "metadata": {
        "colab": {
          "base_uri": "https://localhost:8080/"
        },
        "id": "K526-Mp_xcGE",
        "outputId": "c187d3ba-a0bc-46cc-cd48-492dbd688de4"
      },
      "execution_count": 5,
      "outputs": [
        {
          "output_type": "stream",
          "name": "stdout",
          "text": [
            "8*8 chessboard with grains:\n",
            " [[1.00000000e+00 2.00000000e+00 4.00000000e+00 8.00000000e+00\n",
            "  1.60000000e+01 3.20000000e+01 6.40000000e+01 1.28000000e+02]\n",
            " [2.56000000e+02 5.12000000e+02 1.02400000e+03 2.04800000e+03\n",
            "  4.09600000e+03 8.19200000e+03 1.63840000e+04 3.27680000e+04]\n",
            " [6.55360000e+04 1.31072000e+05 2.62144000e+05 5.24288000e+05\n",
            "  1.04857600e+06 2.09715200e+06 4.19430400e+06 8.38860800e+06]\n",
            " [1.67772160e+07 3.35544320e+07 6.71088640e+07 1.34217728e+08\n",
            "  2.68435456e+08 5.36870912e+08 1.07374182e+09 2.14748365e+09]\n",
            " [4.29496730e+09 8.58993459e+09 1.71798692e+10 3.43597384e+10\n",
            "  6.87194767e+10 1.37438953e+11 2.74877907e+11 5.49755814e+11]\n",
            " [1.09951163e+12 2.19902326e+12 4.39804651e+12 8.79609302e+12\n",
            "  1.75921860e+13 3.51843721e+13 7.03687442e+13 1.40737488e+14]\n",
            " [2.81474977e+14 5.62949953e+14 1.12589991e+15 2.25179981e+15\n",
            "  4.50359963e+15 9.00719925e+15 1.80143985e+16 3.60287970e+16]\n",
            " [7.20575940e+16 1.44115188e+17 2.88230376e+17 5.76460752e+17\n",
            "  1.15292150e+18 2.30584301e+18 4.61168602e+18 9.22337204e+18]]\n",
            "Total grains on the chessboard: 1.8446744073709552e+19\n"
          ]
        }
      ]
    },
    {
      "cell_type": "markdown",
      "source": [
        "# Question 3: Total number of wheat\n",
        "Find the total number of grains on an 8x8 chessboard. Also find the average of each column and visualize it using a bar graph."
      ],
      "metadata": {
        "id": "IYJXe9eLxj_p"
      }
    },
    {
      "cell_type": "code",
      "source": [
        "import matplotlib.pyplot as plt\n",
        "%matplotlib inline\n",
        "\n",
        "# Average per column\n",
        "column_averages = np.mean(chessboard_88, axis=0)\n",
        "\n",
        "# Create a bar graph\n",
        "plt.xlabel(\"column\")\n",
        "plt.ylabel(\"number\")\n",
        "plt.title(\"number in each column\")\n",
        "plt.bar(np.arange(1,9), column_averages)\n",
        "plt.show()"
      ],
      "metadata": {
        "colab": {
          "base_uri": "https://localhost:8080/",
          "height": 472
        },
        "id": "DsaJw_PGaw_X",
        "outputId": "7749d12a-6813-4974-d565-515a4275280a"
      },
      "execution_count": 8,
      "outputs": [
        {
          "output_type": "display_data",
          "data": {
            "text/plain": [
              "<Figure size 640x480 with 1 Axes>"
            ],
            "image/png": "[encoded data removed]"
          },
          "metadata": {}
        }
      ]
    },
    {
      "cell_type": "markdown",
      "source": [
        "# Question 4 Heat map of wheat counts\n",
        "Visualize the number of wheat grains on an 8x8 chessboard as a heatmap.\n",
        "\n",
        "Sample code for the heatmap is provided.\n",
        "\n",
        "<<Heatmap sample code>>\n",
        "\n",
        "This is a heatmap of a 4-by-2 array, with low values ​​in purple and high values ​​in yellow."
      ],
      "metadata": {
        "id": "lFa2r8i4bEOd"
      }
    },
    {
      "cell_type": "code",
      "source": [
        "plt.xlabel(\"column\")\n",
        "plt.ylabel(\"row\")\n",
        "plt.title(\"heatmap\")\n",
        "plt.pcolor(np.array([0, 1, 3, 5, 7, 9, 11, 13]).reshape(4, 2))\n",
        "plt.show()"
      ],
      "metadata": {
        "colab": {
          "base_uri": "https://localhost:8080/",
          "height": 472
        },
        "id": "NWxaB0xabJfF",
        "outputId": "fe265c12-a2d0-497c-b708-4079a3cb2bdd"
      },
      "execution_count": 10,
      "outputs": [
        {
          "output_type": "display_data",
          "data": {
            "text/plain": [
              "<Figure size 640x480 with 1 Axes>"
            ],
            "image/png": "[encoded data removed]"
          },
          "metadata": {}
        }
      ]
    },
    {
      "cell_type": "code",
      "source": [
        "# Question 4: Heatmap of Wheat Counts\n",
        "plt.figure(figsize=(8, 6))\n",
        "plt.xlabel(\"Column\")\n",
        "plt.ylabel(\"Row\")\n",
        "plt.title(\"Heatmap of Wheat Counts on 8x8 Chessboard\")\n",
        "plt.pcolor(chessboard_88, cmap='plasma', shading='auto', edgecolors='k', linewidths=4)\n",
        "plt.colorbar(label=\"Grains of Wheat\")\n",
        "plt.show()"
      ],
      "metadata": {
        "colab": {
          "base_uri": "https://localhost:8080/",
          "height": 564
        },
        "id": "65HY2a1bcY3I",
        "outputId": "37452b91-a8b8-499e-c9b1-4d74b2e03a29"
      },
      "execution_count": 21,
      "outputs": [
        {
          "output_type": "display_data",
          "data": {
            "text/plain": [
              "<Figure size 800x600 with 2 Axes>"
            ],
            "image/png": "[encoded data removed]"
          },
          "metadata": {}
        }
      ]
    },
    {
      "cell_type": "markdown",
      "source": [
        "# The second half of the chessboard\n",
        "American inventor Ray Kurzweil coined the phrase \"the second half of the chessboard\" based on this anecdote. He is saying that technological progress may not have a noticeable impact on society at first, but as it continues to double and double, once you reach the second half of the chessboard, it will bring about rapid changes.\n",
        "\n",
        "# Question 5 How many times larger is the second half than the first half?\n",
        "What is the number of grains in the second half of the chessboard multiplied by the number of grains in the first half? The first half is rows 0 to 3 of the array, and the second half is rows 4 to 7."
      ],
      "metadata": {
        "id": "uc3h-XGieg8L"
      }
    },
    {
      "cell_type": "code",
      "source": [
        "# Second half vs First Half\n",
        "second_half_sum = np.sum(chessboard_88[:4, :])\n",
        "first_half_sum = np.sum(chessboard_88[4:, :])\n",
        "ratio = second_half_sum / first_half_sum\n",
        "\n",
        "print('First half sum:', first_half_sum)\n",
        "print('Second half sum:', second_half_sum)\n",
        "print('The second half sum has',ratio,'times more grains than the first half')"
      ],
      "metadata": {
        "colab": {
          "base_uri": "https://localhost:8080/"
        },
        "id": "X20FXkNVe7_n",
        "outputId": "16073686-a452-413e-9f97-e1516c498eb7"
      },
      "execution_count": 24,
      "outputs": [
        {
          "output_type": "stream",
          "name": "stdout",
          "text": [
            "First half sum: 1.8446744069414584e+19\n",
            "Second half sum: 4294967295.0\n",
            "The second half sum has 2.3283064365386963e-10 times more grains than the first half\n"
          ]
        }
      ]
    },
    {
      "cell_type": "markdown",
      "source": [
        "# Other Calculations\n",
        "The first sample code uses Python lists and a for loop, but other methods are possible.\n",
        "\n",
        "Using ndarray np.append()and a for statement, it can be created as follows:"
      ],
      "metadata": {
        "id": "31nZbr0Ff5Ws"
      }
    },
    {
      "cell_type": "code",
      "source": [
        "n_squares = 4\n",
        "\n",
        "small_board_ndarray = np.array([1])\n",
        "for _ in range (n_squares - 1):\n",
        "  small_board_ndarray = np.append(small_board_ndarray, small_board_ndarray[-1] * 2)\n",
        "\n",
        "print('Arrange wheat on a 4 squared board(ndarray):{}'.format(small_board_ndarray))"
      ],
      "metadata": {
        "colab": {
          "base_uri": "https://localhost:8080/"
        },
        "id": "JxcLWfZigHxT",
        "outputId": "d746b4d7-d612-4af8-d105-5322a365cb83"
      },
      "execution_count": 25,
      "outputs": [
        {
          "output_type": "stream",
          "name": "stdout",
          "text": [
            "Arrange wheat on a 4 squared board(ndarray):[1 2 4 8]\n"
          ]
        }
      ]
    },
    {
      "cell_type": "code",
      "source": [
        "# Using Broadcast\n",
        "n_squares = 4\n",
        "\n",
        "indices_of_squares = np.arange(n_squares)\n",
        "small_board_ndarray = 2 ** indices_of_squares\n",
        "print('Arrange wheat on a 4 squared board(ndarray):{}'.format(small_board_ndarray))"
      ],
      "metadata": {
        "colab": {
          "base_uri": "https://localhost:8080/"
        },
        "id": "4iCshGBEgjD-",
        "outputId": "983638f8-5da9-4a79-cfc7-c3eb5fdcb33b"
      },
      "execution_count": 26,
      "outputs": [
        {
          "output_type": "stream",
          "name": "stdout",
          "text": [
            "Arrange wheat on a 4 squared board(ndarray):[1 2 4 8]\n"
          ]
        }
      ]
    },
    {
      "cell_type": "markdown",
      "source": [
        "The importance of broadcasting is that the code is shorter so faster to execute and memory usage is reduced."
      ],
      "metadata": {
        "id": "oZG7v7r0g_wZ"
      }
    },
    {
      "cell_type": "code",
      "source": [
        "# example\n",
        "import numpy as np\n",
        "\n",
        "a = np.array([0,1,2])\n",
        "\n",
        "# When not to use broadcast\n",
        "b = np.array([5,5,5])\n",
        "print(a + b)\n",
        "\n",
        "# When to use broadcast\n",
        "b = 5\n",
        "print(a + b)\n",
        "\n",
        "# When using broadcast\n",
        "print(a + 5)"
      ],
      "metadata": {
        "colab": {
          "base_uri": "https://localhost:8080/"
        },
        "id": "ySYwo6YIhMVi",
        "outputId": "edf43456-6eba-4bf1-ea76-04bf03e5e1c3"
      },
      "execution_count": 27,
      "outputs": [
        {
          "output_type": "stream",
          "name": "stdout",
          "text": [
            "[5 6 7]\n",
            "[5 6 7]\n",
            "[5 6 7]\n"
          ]
        }
      ]
    },
    {
      "cell_type": "markdown",
      "source": [
        "# ndarray Type\n",
        "Finding the amount of wheat in 64 squares using these methods, you will encounter problems with the shape"
      ],
      "metadata": {
        "id": "HrEov4pdh3NZ"
      }
    },
    {
      "cell_type": "code",
      "source": [
        "n_squares = 64\n",
        "board_ndarray = np.array([1])\n",
        "for _ in range(n_squares - 1):\n",
        "  board_ndarray = np.append(board_ndarray, 2*board_ndarray[-1])\n",
        "\n",
        "print('Number of Grains in the last square:{}'.format(board_ndarray[-1]))"
      ],
      "metadata": {
        "colab": {
          "base_uri": "https://localhost:8080/"
        },
        "id": "GFuPaY50hst0",
        "outputId": "25b2171d-7597-43db-f5f0-84ca6175c86d"
      },
      "execution_count": 30,
      "outputs": [
        {
          "output_type": "stream",
          "name": "stdout",
          "text": [
            "Number of Grains in the last square:-9223372036854775808\n"
          ]
        },
        {
          "output_type": "stream",
          "name": "stderr",
          "text": [
            "<ipython-input-30-9793deccf01c>:4: RuntimeWarning: overflow encountered in scalar multiply\n",
            "  board_ndarray = np.append(board_ndarray, 2*board_ndarray[-1])\n"
          ]
        }
      ]
    },
    {
      "cell_type": "code",
      "source": [
        "n_squares = 64\n",
        "indices_of_squares = np.arange(n_squares)\n",
        "board_ndarray = 2**indices_of_squares\n",
        "print(\"Number of Grains in the last square：{}\".format(board_ndarray[-1]))"
      ],
      "metadata": {
        "colab": {
          "base_uri": "https://localhost:8080/"
        },
        "id": "Yi6PJlJsi2rW",
        "outputId": "28df599e-ac6e-409f-b979-92de68fb26fc"
      },
      "execution_count": 29,
      "outputs": [
        {
          "output_type": "stream",
          "name": "stdout",
          "text": [
            "Number of Grains in the last square：-9223372036854775808\n"
          ]
        }
      ]
    },
    {
      "cell_type": "markdown",
      "source": [
        "Solving the negative value problem, we use tha astype method to convert types from ndarray to uint64 type before calculating the power."
      ],
      "metadata": {
        "id": "09KiNxikjooL"
      }
    },
    {
      "cell_type": "code",
      "source": [
        "n_squares = 64\n",
        "indices_of_squares = np.arange(n_squares).astype(np.uint64)\n",
        "board_ndarray = 2**indices_of_squares\n",
        "print('Number of grains in the last square:{}'.format(board_ndarray[-1]))"
      ],
      "metadata": {
        "colab": {
          "base_uri": "https://localhost:8080/"
        },
        "id": "UUlpkI9NkFue",
        "outputId": "8cfdb86b-4fb7-4d1d-ada1-95a583221975"
      },
      "execution_count": 31,
      "outputs": [
        {
          "output_type": "stream",
          "name": "stdout",
          "text": [
            "Number of grains in the last square:9223372036854775808\n"
          ]
        }
      ]
    },
    {
      "cell_type": "markdown",
      "source": [
        "# Problem 6 Extending to n×m grids using other calculation methods\n",
        "Similar to problem 2, create a new function that returns an ndarray containing the number of grains on an n x m chessboard, np.append()using both the and broadcasting methods.\n",
        "\n",
        "Use these functions to again find the number of grains on an 8x8 chessboard."
      ],
      "metadata": {
        "id": "G3Qi6roRk1wc"
      }
    },
    {
      "cell_type": "code",
      "source": [
        "import numpy as np\n",
        "import matplotlib.pyplot as plt\n",
        "def wheat_chessboard_broadcast(n, m):\n",
        "    \"\"\"Generates an n×m chessboard using NumPy broadcasting.\"\"\"\n",
        "    indices = np.arange(n * m).reshape(n, m)\n",
        "    return 2 ** indices\n",
        "\n",
        "def wheat_chessboard_append(n, m):\n",
        "    \"\"\"Generates an n×m chessboard using np.append.\"\"\"\n",
        "    board = np.array([1], dtype=np.uint64)\n",
        "    for _ in range(n * m - 1):\n",
        "        board = np.append(board, 2 * board[-1])\n",
        "    return board.reshape(n, m)\n",
        "board_8x8_broadcast = wheat_chessboard_broadcast(8, 8)\n",
        "board_8x8_append = wheat_chessboard_append(8, 8)\n",
        "\n",
        "print(\"8x8 Chessboard using broadcasting:\\n\", board_8x8_broadcast)\n",
        "print(\"8x8 Chessboard using np.append:\\n\", board_8x8_append)\n"
      ],
      "metadata": {
        "colab": {
          "base_uri": "https://localhost:8080/"
        },
        "id": "5q4YzCeWkpFf",
        "outputId": "ce060c15-2d15-47ea-846e-2fea23138c60"
      },
      "execution_count": 33,
      "outputs": [
        {
          "output_type": "stream",
          "name": "stdout",
          "text": [
            "8x8 Chessboard using broadcasting:\n",
            " [[                   1                    2                    4\n",
            "                     8                   16                   32\n",
            "                    64                  128]\n",
            " [                 256                  512                 1024\n",
            "                  2048                 4096                 8192\n",
            "                 16384                32768]\n",
            " [               65536               131072               262144\n",
            "                524288              1048576              2097152\n",
            "               4194304              8388608]\n",
            " [            16777216             33554432             67108864\n",
            "             134217728            268435456            536870912\n",
            "            1073741824           2147483648]\n",
            " [          4294967296           8589934592          17179869184\n",
            "           34359738368          68719476736         137438953472\n",
            "          274877906944         549755813888]\n",
            " [       1099511627776        2199023255552        4398046511104\n",
            "         8796093022208       17592186044416       35184372088832\n",
            "        70368744177664      140737488355328]\n",
            " [     281474976710656      562949953421312     1125899906842624\n",
            "      2251799813685248     4503599627370496     9007199254740992\n",
            "     18014398509481984    36028797018963968]\n",
            " [   72057594037927936   144115188075855872   288230376151711744\n",
            "    576460752303423488  1152921504606846976  2305843009213693952\n",
            "   4611686018427387904 -9223372036854775808]]\n",
            "8x8 Chessboard using np.append:\n",
            " [[                  1                   2                   4\n",
            "                    8                  16                  32\n",
            "                   64                 128]\n",
            " [                256                 512                1024\n",
            "                 2048                4096                8192\n",
            "                16384               32768]\n",
            " [              65536              131072              262144\n",
            "               524288             1048576             2097152\n",
            "              4194304             8388608]\n",
            " [           16777216            33554432            67108864\n",
            "            134217728           268435456           536870912\n",
            "           1073741824          2147483648]\n",
            " [         4294967296          8589934592         17179869184\n",
            "          34359738368         68719476736        137438953472\n",
            "         274877906944        549755813888]\n",
            " [      1099511627776       2199023255552       4398046511104\n",
            "        8796093022208      17592186044416      35184372088832\n",
            "       70368744177664     140737488355328]\n",
            " [    281474976710656     562949953421312    1125899906842624\n",
            "     2251799813685248    4503599627370496    9007199254740992\n",
            "    18014398509481984   36028797018963968]\n",
            " [  72057594037927936  144115188075855872  288230376151711744\n",
            "   576460752303423488 1152921504606846976 2305843009213693952\n",
            "  4611686018427387904 9223372036854775808]]\n"
          ]
        }
      ]
    },
    {
      "cell_type": "markdown",
      "source": [
        "# Comparison of calculation times\n",
        "We have looked at three different methods. %%timeitPlease measure the calculation time for each method using Jupyter Notebook and compare and discuss the results.\n",
        "\n",
        "%%timeitruns the code in a cell multiple times and prints the average execution time."
      ],
      "metadata": {
        "id": "rTcZKdgPofcm"
      }
    },
    {
      "cell_type": "code",
      "source": [
        "# Comparison of calculation times using %%timeit (to be run in Jupyter Notebook)\n",
        "%%timeit\n",
        "# Using method 1\n",
        "loop_time = wheat_chessboard(8, 8)\n",
        "loop_time"
      ],
      "metadata": {
        "colab": {
          "base_uri": "https://localhost:8080/"
        },
        "id": "GHhksuaLofFs",
        "outputId": "a87b4986-0a84-4da1-8de7-27ae49d90886"
      },
      "execution_count": 48,
      "outputs": [
        {
          "output_type": "stream",
          "name": "stdout",
          "text": [
            "14.1 µs ± 2.33 µs per loop (mean ± std. dev. of 7 runs, 100000 loops each)\n"
          ]
        }
      ]
    },
    {
      "cell_type": "code",
      "source": [
        "%%timeit\n",
        "# Using broadcasting method\n",
        "broadcast_time = wheat_chessboard_broadcast(8, 8)\n",
        "broadcast_time"
      ],
      "metadata": {
        "colab": {
          "base_uri": "https://localhost:8080/"
        },
        "id": "MhehoLtVq7nf",
        "outputId": "ca328923-5bc2-4d3b-fd9d-317342a19f13"
      },
      "execution_count": 46,
      "outputs": [
        {
          "output_type": "stream",
          "name": "stdout",
          "text": [
            "2.36 µs ± 103 ns per loop (mean ± std. dev. of 7 runs, 100000 loops each)\n"
          ]
        }
      ]
    },
    {
      "cell_type": "code",
      "source": [
        "%%timeit\n",
        "# using append method\n",
        "append_time = wheat_chessboard_append(8, 8)\n",
        "append_time"
      ],
      "metadata": {
        "colab": {
          "base_uri": "https://localhost:8080/"
        },
        "id": "5CAN_7F5rFJV",
        "outputId": "0065ac04-5331-461b-d355-4d57d9801ee8"
      },
      "execution_count": 47,
      "outputs": [
        {
          "output_type": "stream",
          "name": "stdout",
          "text": [
            "245 µs ± 10.8 µs per loop (mean ± std. dev. of 7 runs, 1000 loops each)\n"
          ]
        }
      ]
    },
    {
      "cell_type": "code",
      "source": [
        "import timeit\n",
        "# Comparison of calculation times\n",
        "broadcast_time = timeit.timeit(lambda: wheat_chessboard_broadcast(8, 8), number=10000)\n",
        "loop_time = timeit.timeit(lambda: wheat_chessboard(8, 8), number=10000)\n",
        "append_time = timeit.timeit(lambda: wheat_chessboard_append(8, 8), number=10000)\n",
        "\n",
        "print(f\"Time for broadcasting method: {broadcast_time:.6f} seconds\")\n",
        "print(f\"Time for loop-based method: {loop_time:.6f} seconds\")\n",
        "print(f\"Time for np.append method: {append_time:.6f} seconds\")\n",
        "\n",
        "if broadcast_time < loop_time and broadcast_time < append_time:\n",
        "    print(\"The broadcasting method is the fastest.\")"
      ],
      "metadata": {
        "colab": {
          "base_uri": "https://localhost:8080/"
        },
        "id": "wAi4GvxEt7aL",
        "outputId": "64355391-b14b-4c8d-85f6-1584bd245a82"
      },
      "execution_count": 53,
      "outputs": [
        {
          "output_type": "stream",
          "name": "stdout",
          "text": [
            "Time for broadcasting method: 0.027070 seconds\n",
            "Time for loop-based method: 0.128487 seconds\n",
            "Time for np.append method: 2.451184 seconds\n",
            "The broadcasting method is the fastest.\n"
          ]
        }
      ]
    }
  ]
}