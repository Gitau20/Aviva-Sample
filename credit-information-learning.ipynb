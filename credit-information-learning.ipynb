{
 "cells": [
  {
   "cell_type": "markdown",
   "id": "7b2246f4",
   "metadata": {
    "papermill": {
     "duration": 0.003791,
     "end_time": "2025-04-16T11:11:05.185102",
     "exception": false,
     "start_time": "2025-04-16T11:11:05.181311",
     "status": "completed"
    },
    "tags": []
   },
   "source": [
    "# **INTRODUCTION**\n",
    "\n",
    "We will study and estimate for Home Credit Default Risk competition on Kaggle. \n",
    "\n",
    "# Question 1: Confirmation of competition details\n",
    "_Learn & Predict_\n",
    "\n",
    "We are tasked with predicting the likelihood of a loan applicant defaulting on a loan. The target is the column TARGET in the dataset where:\n",
    "\n",
    "TARGET = 1: Client will default on the loan.\n",
    "\n",
    "TARGET = 0: Client will repay the loan.\n",
    "\n",
    "Our goal is to build a machine learning model to predict the probability of default (Target = 1) for each loan applicant using structured data.\n",
    "\n",
    "_File for Submission_\n",
    "\n",
    "We will submit a CSV file such that for each SK_ID_CURR in the test set, we must predict a probability for the TARGET variable. \n",
    "\n",
    "_Evaluation_\n",
    "\n",
    "Our predictions will be evaluated using the Area Under the ROC Curve (AUC or ROC AUC) between the predicted probability and the observed target."
   ]
  },
  {
   "cell_type": "markdown",
   "id": "e5c5e749",
   "metadata": {
    "papermill": {
     "duration": 0.003293,
     "end_time": "2025-04-16T11:11:05.191984",
     "exception": false,
     "start_time": "2025-04-16T11:11:05.188691",
     "status": "completed"
    },
    "tags": []
   },
   "source": [
    "# **Creating a Baseline Model**\n",
    "First, we create a baseline model using a simple method , which will be the benchmark for accuracy.\n",
    "\n",
    "It doesn't need to be highly accurate. We just want it to run without errors and be able to submit estimates to Kaggle.\n",
    "\n",
    "# Problem 2: Learning and verification\n",
    "Create and execute a series of steps to easily analyze, preprocess, train, and verify data.\n",
    "\n",
    "Use the evaluation metrics used in this competition for validation. The training method is not specified."
   ]
  },
  {
   "cell_type": "code",
   "execution_count": 1,
   "id": "0c222897",
   "metadata": {
    "execution": {
     "iopub.execute_input": "2025-04-16T11:11:05.200964Z",
     "iopub.status.busy": "2025-04-16T11:11:05.200041Z",
     "iopub.status.idle": "2025-04-16T11:11:14.830782Z",
     "shell.execute_reply": "2025-04-16T11:11:14.829584Z"
    },
    "papermill": {
     "duration": 9.637241,
     "end_time": "2025-04-16T11:11:14.832643",
     "exception": false,
     "start_time": "2025-04-16T11:11:05.195402",
     "status": "completed"
    },
    "tags": []
   },
   "outputs": [],
   "source": [
    "# Import libraries\n",
    "import pandas as pd\n",
    "import numpy as np\n",
    "from sklearn.model_selection import train_test_split\n",
    "from sklearn.preprocessing import LabelEncoder, StandardScaler\n",
    "from sklearn.impute import KNNImputer\n",
    "from sklearn.metrics import roc_auc_score\n",
    "from sklearn.linear_model import LogisticRegression\n",
    "from sklearn.ensemble import RandomForestClassifier\n",
    "import lightgbm as lgb\n",
    "from sklearn.svm import SVC\n",
    "from sklearn.preprocessing import StandardScaler\n",
    "from sklearn.tree import DecisionTreeClassifier"
   ]
  },
  {
   "cell_type": "code",
   "execution_count": 2,
   "id": "57819239",
   "metadata": {
    "execution": {
     "iopub.execute_input": "2025-04-16T11:11:14.841469Z",
     "iopub.status.busy": "2025-04-16T11:11:14.840835Z",
     "iopub.status.idle": "2025-04-16T11:11:22.395154Z",
     "shell.execute_reply": "2025-04-16T11:11:22.394291Z"
    },
    "papermill": {
     "duration": 7.560018,
     "end_time": "2025-04-16T11:11:22.396692",
     "exception": false,
     "start_time": "2025-04-16T11:11:14.836674",
     "status": "completed"
    },
    "tags": []
   },
   "outputs": [
    {
     "name": "stdout",
     "output_type": "stream",
     "text": [
      "Train shape: (307511, 122)\n",
      "Test shape: (48744, 121)\n",
      "Missing values (top):\n",
      " COMMONAREA_MEDI             214865\n",
      "COMMONAREA_AVG              214865\n",
      "COMMONAREA_MODE             214865\n",
      "NONLIVINGAPARTMENTS_MODE    213514\n",
      "NONLIVINGAPARTMENTS_AVG     213514\n",
      "dtype: int64\n",
      "Target Distribution:\n",
      " TARGET\n",
      "0    0.919271\n",
      "1    0.080729\n",
      "Name: proportion, dtype: float64\n"
     ]
    }
   ],
   "source": [
    "# Load training and test datasets\n",
    "train = pd.read_csv('/kaggle/input/home-credit-default-risk/application_train.csv')\n",
    "test = pd.read_csv('/kaggle/input/home-credit-default-risk/application_test.csv')\n",
    "\n",
    "# Quick view\n",
    "print(\"Train shape:\", train.shape)\n",
    "print(\"Test shape:\", test.shape)\n",
    "print(\"Missing values (top):\\n\", train.isnull().sum().sort_values(ascending=False).head())\n",
    "print(\"Target Distribution:\\n\", train['TARGET'].value_counts(normalize=True))"
   ]
  },
  {
   "cell_type": "markdown",
   "id": "15164bac",
   "metadata": {
    "papermill": {
     "duration": 0.003004,
     "end_time": "2025-04-16T11:11:22.403063",
     "exception": false,
     "start_time": "2025-04-16T11:11:22.400059",
     "status": "completed"
    },
    "tags": []
   },
   "source": [
    "# Preprocessing\n",
    "For learning purposes we will use a different approach of filling the missing values with median instead of dropping the nulls as we did in the Housing Credit Analysis Notebook."
   ]
  },
  {
   "cell_type": "code",
   "execution_count": 3,
   "id": "9c07c603",
   "metadata": {
    "execution": {
     "iopub.execute_input": "2025-04-16T11:11:22.411944Z",
     "iopub.status.busy": "2025-04-16T11:11:22.411616Z",
     "iopub.status.idle": "2025-04-16T11:11:25.463209Z",
     "shell.execute_reply": "2025-04-16T11:11:25.462314Z"
    },
    "papermill": {
     "duration": 3.057427,
     "end_time": "2025-04-16T11:11:25.464841",
     "exception": false,
     "start_time": "2025-04-16T11:11:22.407414",
     "status": "completed"
    },
    "tags": []
   },
   "outputs": [],
   "source": [
    "# Save target & drop from train\n",
    "y = train['TARGET']\n",
    "train = train.drop(columns=['TARGET'])\n",
    "\n",
    "# Fill missing values\n",
    "train = train.fillna(train.median(numeric_only=True))\n",
    "test = test.fillna(test.median(numeric_only=True))\n",
    "\n",
    "# Encode categorical features\n",
    "le = LabelEncoder()\n",
    "for col in train.select_dtypes('object').columns:\n",
    "    train[col] = le.fit_transform(train[col].astype(str))\n",
    "    test[col] = le.transform(test[col].astype(str))\n",
    "\n",
    "# Align train and test\n",
    "train, test = train.align(test, join='inner', axis=1)"
   ]
  },
  {
   "cell_type": "code",
   "execution_count": 4,
   "id": "3cfd577f",
   "metadata": {
    "execution": {
     "iopub.execute_input": "2025-04-16T11:11:25.472769Z",
     "iopub.status.busy": "2025-04-16T11:11:25.472479Z",
     "iopub.status.idle": "2025-04-16T11:11:25.844599Z",
     "shell.execute_reply": "2025-04-16T11:11:25.843698Z"
    },
    "papermill": {
     "duration": 0.378409,
     "end_time": "2025-04-16T11:11:25.846670",
     "exception": false,
     "start_time": "2025-04-16T11:11:25.468261",
     "status": "completed"
    },
    "tags": []
   },
   "outputs": [],
   "source": [
    "# Split Train & Validate\n",
    "X_train, X_val, y_train, y_val = train_test_split(train, y, test_size=0.2,\n",
    "                                                  random_state=42, stratify=y)"
   ]
  },
  {
   "cell_type": "code",
   "execution_count": 5,
   "id": "838ce58b",
   "metadata": {
    "execution": {
     "iopub.execute_input": "2025-04-16T11:11:25.860051Z",
     "iopub.status.busy": "2025-04-16T11:11:25.859195Z",
     "iopub.status.idle": "2025-04-16T11:11:44.362865Z",
     "shell.execute_reply": "2025-04-16T11:11:44.361873Z"
    },
    "papermill": {
     "duration": 18.511829,
     "end_time": "2025-04-16T11:11:44.364285",
     "exception": false,
     "start_time": "2025-04-16T11:11:25.852456",
     "status": "completed"
    },
    "tags": []
   },
   "outputs": [
    {
     "name": "stdout",
     "output_type": "stream",
     "text": [
      "Validation ROC AUC: 0.6238852803755546\n"
     ]
    }
   ],
   "source": [
    "# Train logistic regression\n",
    "model = LogisticRegression(max_iter=1000)\n",
    "model.fit(X_train, y_train)\n",
    "val_probs = model.predict_proba(X_val)[:, 1]\n",
    "\n",
    "# Predict on validation set\n",
    "roc_auc = roc_auc_score(y_val, val_probs)\n",
    "print(\"Validation ROC AUC:\", roc_auc)"
   ]
  },
  {
   "cell_type": "markdown",
   "id": "e6608acd",
   "metadata": {
    "papermill": {
     "duration": 0.002951,
     "end_time": "2025-04-16T11:11:44.370589",
     "exception": false,
     "start_time": "2025-04-16T11:11:44.367638",
     "status": "completed"
    },
    "tags": []
   },
   "source": [
    "# Problem 3: Estimation on test data\n",
    "Perform estimation on the test data (application_test.csv) and submit it to Kaggle.\n",
    "\n",
    "As long as the submission is correct, it doesn't matter if the accuracy is low."
   ]
  },
  {
   "cell_type": "code",
   "execution_count": 6,
   "id": "3727f3ef",
   "metadata": {
    "_cell_guid": "b1076dfc-b9ad-4769-8c92-a6c4dae69d19",
    "_uuid": "8f2839f25d086af736a60e9eeb907d3b93b6e0e5",
    "execution": {
     "iopub.execute_input": "2025-04-16T11:11:44.378282Z",
     "iopub.status.busy": "2025-04-16T11:11:44.377989Z",
     "iopub.status.idle": "2025-04-16T11:11:44.519066Z",
     "shell.execute_reply": "2025-04-16T11:11:44.518250Z"
    },
    "papermill": {
     "duration": 0.146715,
     "end_time": "2025-04-16T11:11:44.520613",
     "exception": false,
     "start_time": "2025-04-16T11:11:44.373898",
     "status": "completed"
    },
    "tags": []
   },
   "outputs": [],
   "source": [
    "# Predict probabilities of default (TARGET = 1)\n",
    "test_probs = model.predict_proba(test)[:, 1]\n",
    "\n",
    "# Load IDs\n",
    "submission = pd.DataFrame({\n",
    "    'SK_ID_CURR': test['SK_ID_CURR'],\n",
    "    'TARGET': test_probs\n",
    "})\n",
    "\n",
    "# Save to CSV for Kaggle submission\n",
    "submission.to_csv('submission_home_credit.csv', index=False)"
   ]
  },
  {
   "cell_type": "markdown",
   "id": "2cd57eb2",
   "metadata": {
    "papermill": {
     "duration": 0.002943,
     "end_time": "2025-04-16T11:11:44.526977",
     "exception": false,
     "start_time": "2025-04-16T11:11:44.524034",
     "status": "completed"
    },
    "tags": []
   },
   "source": [
    "# Feature Engineering\n",
    "Based on the baseline model, we will improve accuracy by making various adjustments to the input features.\n",
    "\n",
    "# Problem 4: Feature engineering\n",
    "To improve accuracy , perform feature engineering with the following in mind :\n",
    "\n",
    "- Which features to use\n",
    "- How to pre-process\n",
    "\n",
    "We will summarize what the evaluation indicators for the validation data were when we did what. Conduct training and validation for at least five patterns.\n",
    "\n",
    "For those with high accuracy, we will perform estimation on the test data and submit it to Kaggle."
   ]
  },
  {
   "cell_type": "code",
   "execution_count": 7,
   "id": "855414b3",
   "metadata": {
    "execution": {
     "iopub.execute_input": "2025-04-16T11:11:44.534327Z",
     "iopub.status.busy": "2025-04-16T11:11:44.534015Z",
     "iopub.status.idle": "2025-04-16T11:52:16.039910Z",
     "shell.execute_reply": "2025-04-16T11:52:16.038595Z"
    },
    "papermill": {
     "duration": 2431.511568,
     "end_time": "2025-04-16T11:52:16.041536",
     "exception": false,
     "start_time": "2025-04-16T11:11:44.529968",
     "status": "completed"
    },
    "tags": []
   },
   "outputs": [
    {
     "name": "stderr",
     "output_type": "stream",
     "text": [
      "/usr/local/lib/python3.11/dist-packages/sklearn/svm/_base.py:1244: ConvergenceWarning: Liblinear failed to converge, increase the number of iterations.\n",
      "  warnings.warn(\n",
      "/usr/local/lib/python3.11/dist-packages/sklearn/svm/_base.py:1244: ConvergenceWarning: Liblinear failed to converge, increase the number of iterations.\n",
      "  warnings.warn(\n",
      "/usr/local/lib/python3.11/dist-packages/sklearn/svm/_base.py:1244: ConvergenceWarning: Liblinear failed to converge, increase the number of iterations.\n",
      "  warnings.warn(\n"
     ]
    },
    {
     "name": "stdout",
     "output_type": "stream",
     "text": [
      "[LightGBM] [Info] Number of positive: 19860, number of negative: 226148\n",
      "[LightGBM] [Info] Auto-choosing row-wise multi-threading, the overhead of testing was 0.119996 seconds.\n",
      "You can set `force_row_wise=true` to remove the overhead.\n",
      "And if memory is not enough, you can set `force_col_wise=true`.\n",
      "[LightGBM] [Info] Total Bins 11567\n",
      "[LightGBM] [Info] Number of data points in the train set: 246008, number of used features: 117\n",
      "[LightGBM] [Info] [binary:BoostFromScore]: pavg=0.080729 -> initscore=-2.432482\n",
      "[LightGBM] [Info] Start training from score -2.432482\n",
      "Validation ROC AUC Scores:\n",
      "Logistic Regression: 0.7468\n",
      "Decision Tree: 0.7130\n",
      "Random Forest: 0.7374\n",
      "SVM (Calibrated Linear): 0.7465\n",
      "LightGBM: 0.7584\n"
     ]
    }
   ],
   "source": [
    "from sklearn.preprocessing import StandardScaler\n",
    "from sklearn.linear_model import LogisticRegression\n",
    "from sklearn.tree import DecisionTreeClassifier\n",
    "from sklearn.ensemble import RandomForestClassifier\n",
    "from sklearn.svm import LinearSVC\n",
    "from sklearn.calibration import CalibratedClassifierCV\n",
    "from sklearn.metrics import roc_auc_score\n",
    "import lightgbm as lgb\n",
    "\n",
    "# Standardize features\n",
    "scaler = StandardScaler()\n",
    "X_train_scaled = scaler.fit_transform(X_train)\n",
    "X_val_scaled = scaler.transform(X_val)\n",
    "\n",
    "results = {}\n",
    "\n",
    "# Logistic Regression\n",
    "lr = LogisticRegression(max_iter=1000)\n",
    "lr.fit(X_train_scaled, y_train)\n",
    "lr_probs = lr.predict_proba(X_val_scaled)[:, 1]\n",
    "results['Logistic Regression'] = roc_auc_score(y_val, lr_probs)\n",
    "\n",
    "# Decision Tree\n",
    "dt = DecisionTreeClassifier(max_depth=6, random_state=42)\n",
    "dt.fit(X_train, y_train)\n",
    "dt_probs = dt.predict_proba(X_val)[:, 1]\n",
    "results['Decision Tree'] = roc_auc_score(y_val, dt_probs)\n",
    "\n",
    "# Random Forest\n",
    "rf = RandomForestClassifier(n_estimators=50, max_depth=10, n_jobs=-1, random_state=42)\n",
    "rf.fit(X_train, y_train)\n",
    "rf_probs = rf.predict_proba(X_val)[:, 1]\n",
    "results['Random Forest'] = roc_auc_score(y_val, rf_probs)\n",
    "\n",
    "# Linear SVM + Calibration for probability estimates\n",
    "svm_base = LinearSVC(max_iter=5000)\n",
    "svm = CalibratedClassifierCV(svm_base, cv=3)\n",
    "svm.fit(X_train_scaled, y_train)\n",
    "svm_probs = svm.predict_proba(X_val_scaled)[:, 1]\n",
    "results['SVM (Calibrated Linear)'] = roc_auc_score(y_val, svm_probs)\n",
    "\n",
    "# LightGBM\n",
    "lgbm = lgb.LGBMClassifier(n_estimators=100, max_depth=7)\n",
    "lgbm.fit(X_train, y_train)\n",
    "lgbm_probs = lgbm.predict_proba(X_val)[:, 1]\n",
    "results['LightGBM'] = roc_auc_score(y_val, lgbm_probs)\n",
    "\n",
    "# Print results\n",
    "print(\"Validation ROC AUC Scores:\")\n",
    "for model, score in results.items():\n",
    "    print(f\"{model}: {score:.4f}\")"
   ]
  },
  {
   "cell_type": "markdown",
   "id": "8650f584",
   "metadata": {
    "papermill": {
     "duration": 0.00351,
     "end_time": "2025-04-16T11:52:16.048856",
     "exception": false,
     "start_time": "2025-04-16T11:52:16.045346",
     "status": "completed"
    },
    "tags": []
   },
   "source": [
    "LightGBM performed the best, as it's highly optimized for structured data like this.\n",
    "\n",
    "Logistic Regression and SVM also did quite well with both close to LightGBM.\n",
    "\n",
    "Decision Tree lags a bit, but still offers interpretability if needed.\n",
    "\n",
    "Since LightGBM has high accuracy, we will perform estimation on the test data and submit it to Kaggle"
   ]
  },
  {
   "cell_type": "code",
   "execution_count": 8,
   "id": "c3714abb",
   "metadata": {
    "execution": {
     "iopub.execute_input": "2025-04-16T11:52:16.057438Z",
     "iopub.status.busy": "2025-04-16T11:52:16.057106Z",
     "iopub.status.idle": "2025-04-16T11:52:24.380424Z",
     "shell.execute_reply": "2025-04-16T11:52:24.379239Z"
    },
    "papermill": {
     "duration": 8.329775,
     "end_time": "2025-04-16T11:52:24.382170",
     "exception": false,
     "start_time": "2025-04-16T11:52:16.052395",
     "status": "completed"
    },
    "tags": []
   },
   "outputs": [
    {
     "name": "stdout",
     "output_type": "stream",
     "text": [
      "[LightGBM] [Info] Number of positive: 24825, number of negative: 282686\n",
      "[LightGBM] [Info] Auto-choosing row-wise multi-threading, the overhead of testing was 0.139339 seconds.\n",
      "You can set `force_row_wise=true` to remove the overhead.\n",
      "And if memory is not enough, you can set `force_col_wise=true`.\n",
      "[LightGBM] [Info] Total Bins 11461\n",
      "[LightGBM] [Info] Number of data points in the train set: 307511, number of used features: 117\n",
      "[LightGBM] [Info] [binary:BoostFromScore]: pavg=0.080729 -> initscore=-2.432486\n",
      "[LightGBM] [Info] Start training from score -2.432486\n"
     ]
    }
   ],
   "source": [
    "# Prepare and preprocess the test dataset\n",
    "# Recombine training features and labels\n",
    "X_full = pd.concat([X_train, X_val])\n",
    "y_full = pd.concat([y_train, y_val])\n",
    "\n",
    "# Train final model\n",
    "final_model = lgb.LGBMClassifier(n_estimators=100, max_depth=7)\n",
    "final_model.fit(X_full, y_full)\n",
    "# Fill missing values\n",
    "test = test.fillna(test.median(numeric_only=True))\n",
    "\n",
    "# Encode categoricals\n",
    "for col in test.select_dtypes('object').columns:\n",
    "    test[col] = le.transform(test[col].astype(str))\n",
    "\n",
    "# Align columns (just in case)\n",
    "test = test[X_full.columns]\n"
   ]
  },
  {
   "cell_type": "code",
   "execution_count": 9,
   "id": "cb228c15",
   "metadata": {
    "execution": {
     "iopub.execute_input": "2025-04-16T11:52:24.391573Z",
     "iopub.status.busy": "2025-04-16T11:52:24.391283Z",
     "iopub.status.idle": "2025-04-16T11:52:24.636616Z",
     "shell.execute_reply": "2025-04-16T11:52:24.635837Z"
    },
    "papermill": {
     "duration": 0.252145,
     "end_time": "2025-04-16T11:52:24.638320",
     "exception": false,
     "start_time": "2025-04-16T11:52:24.386175",
     "status": "completed"
    },
    "tags": []
   },
   "outputs": [],
   "source": [
    "# Predict Probabilities\n",
    "test_preds = final_model.predict_proba(test)[:, 1]"
   ]
  },
  {
   "cell_type": "code",
   "execution_count": 10,
   "id": "6646511b",
   "metadata": {
    "execution": {
     "iopub.execute_input": "2025-04-16T11:52:24.647235Z",
     "iopub.status.busy": "2025-04-16T11:52:24.646815Z",
     "iopub.status.idle": "2025-04-16T11:52:24.815601Z",
     "shell.execute_reply": "2025-04-16T11:52:24.814826Z"
    },
    "papermill": {
     "duration": 0.175065,
     "end_time": "2025-04-16T11:52:24.817291",
     "exception": false,
     "start_time": "2025-04-16T11:52:24.642226",
     "status": "completed"
    },
    "tags": []
   },
   "outputs": [],
   "source": [
    "# Create submission file\n",
    "submission = pd.read_csv(\"/kaggle/input/home-credit-default-risk/sample_submission.csv\")\n",
    "submission['TARGET'] = test_preds\n",
    "submission.to_csv(\"lightgbm_submission.csv\", index=False)\n"
   ]
  }
 ],
 "metadata": {
  "kaggle": {
   "accelerator": "none",
   "dataSources": [
    {
     "databundleVersionId": 860599,
     "sourceId": 9120,
     "sourceType": "competition"
    }
   ],
   "dockerImageVersionId": 31012,
   "isGpuEnabled": false,
   "isInternetEnabled": true,
   "language": "python",
   "sourceType": "notebook"
  },
  "kernelspec": {
   "display_name": "Python 3",
   "language": "python",
   "name": "python3"
  },
  "language_info": {
   "codemirror_mode": {
    "name": "ipython",
    "version": 3
   },
   "file_extension": ".py",
   "mimetype": "text/x-python",
   "name": "python",
   "nbconvert_exporter": "python",
   "pygments_lexer": "ipython3",
   "version": "3.11.11"
  },
  "papermill": {
   "default_parameters": {},
   "duration": 2485.553189,
   "end_time": "2025-04-16T11:52:25.946197",
   "environment_variables": {},
   "exception": null,
   "input_path": "__notebook__.ipynb",
   "output_path": "__notebook__.ipynb",
   "parameters": {},
   "start_time": "2025-04-16T11:11:00.393008",
   "version": "2.6.0"
  }
 },
 "nbformat": 4,
 "nbformat_minor": 5
}
