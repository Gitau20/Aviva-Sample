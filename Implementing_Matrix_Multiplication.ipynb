{
  "nbformat": 4,
  "nbformat_minor": 0,
  "metadata": {
    "colab": {
      "provenance": [],
      "authorship_tag": "ABX9TyNr6Me8U2Q5velsk27bmhJX",
      "include_colab_link": true
    },
    "kernelspec": {
      "name": "python3",
      "display_name": "Python 3"
    },
    "language_info": {
      "name": "python"
    }
  },
  "cells": [
    {
      "cell_type": "markdown",
      "metadata": {
        "id": "view-in-github",
        "colab_type": "text"
      },
      "source": [
        "<a href=\"https://colab.research.google.com/github/Gitau20/Aviva-Sample/blob/main/Implementing_Matrix_Multiplication.ipynb\" target=\"_parent\"><img src=\"https://colab.research.google.com/assets/colab-badge.svg\" alt=\"Open In Colab\"/></a>"
      ]
    },
    {
      "cell_type": "markdown",
      "source": [
        "# **Matrix Multiplication**"
      ],
      "metadata": {
        "id": "PDXOoUT4lGmE"
      }
    },
    {
      "cell_type": "code",
      "execution_count": 2,
      "metadata": {
        "id": "no-0WFJdXjAQ"
      },
      "outputs": [],
      "source": [
        "import numpy as np\n",
        "\n",
        "a_ndarray = np.array([[-1,2,3],[4,-5,6],[7,8,-9]])\n",
        "b_ndarray= np.array([[0,2,1],[0,2,-8],[2,9,-1]])"
      ]
    },
    {
      "cell_type": "markdown",
      "source": [
        "Solve the matrix product of A and B by hand.\n",
        "\n",
        "Please also explain the calculation process using Markdown text.\n",
        "\n",
        "Assuming that the product of A and B yield C:\n",
        "C[i][j] = A[i][k] * B[k][j]\n",
        "\n",
        "By hand, we multiply each row of A by each column of B.\n",
        "\n",
        "Row 1 of A * B colums\n",
        "C[0][0] = (-1)*0 + 2*0 + 3*2 = 0 + 0 + 6 = 6\n",
        "\n",
        "C[0][1] = (-1)*2 + 2*2 + 3*9 = -2 + 4 + 27 = 29\n",
        "\n",
        "C[0][2] = (-1)*1 + 2*(-8) + 3*(-1) = -1 -16 -3 = -20\n",
        "\n",
        "Row 2 of A * Columns of B:\n",
        "A[1] = [4, -5, 6]\n",
        "\n",
        "C[1][0] = 4*0 + (-5)*0 + 6*2 = 0 + 0 + 12 = 12\n",
        "\n",
        "C[1][1] = 4*2 + (-5)*2 + 6*9 = 8 -10 + 54 = 52\n",
        "\n",
        "C[1][2] = 4*1 + (-5)*(-8) + 6*(-1) = 4 + 40 -6 = 38\n",
        "\n",
        "Row 3 of A * Columns of B:\n",
        "A[2] = [7, 8, -9]\n",
        "\n",
        "C[2][0] = 7*0 + 8*0 + (-9)*2 = 0 + 0 -18 = -18\n",
        "\n",
        "C[2][1] = 7*2 + 8*2 + (-9)*9 = 14 + 16 -81 = -51\n",
        "\n",
        "C[2][2] = 7*1 + 8*(-8) + (-9)*(-1) = 7 -64 + 9 = -48\n",
        "\n",
        "Whereby C becomes =\n",
        "\n",
        "6\n",
        "12\n",
        "-18\n",
        "\n",
        "  \n",
        "29\n",
        "52\n",
        "-51\n",
        "\n",
        "-20\n",
        "38\n",
        "-48"
      ],
      "metadata": {
        "id": "4avSNFBPm4_S"
      }
    },
    {
      "cell_type": "code",
      "source": [
        "c_ndarray = np.array([[6,29,-20],[12,52,38],[-18,-51,-48]])\n",
        "print(c_ndarray)"
      ],
      "metadata": {
        "colab": {
          "base_uri": "https://localhost:8080/"
        },
        "id": "ilESWNMRljgm",
        "outputId": "0160052b-43b4-405f-f178-ae1148839931"
      },
      "execution_count": 3,
      "outputs": [
        {
          "output_type": "stream",
          "name": "stdout",
          "text": [
            "[[  6  29 -20]\n",
            " [ 12  52  38]\n",
            " [-18 -51 -48]]\n"
          ]
        }
      ]
    },
    {
      "cell_type": "markdown",
      "source": [
        "# **Calculations Using Numpy Functions**\n",
        "This matrix multiplication can be easily calculated using NumPy's np.matmul()or operators np.dot().@\n",
        "\n",
        "Use these to calculate the matrix product."
      ],
      "metadata": {
        "id": "Wag83g2rpPWl"
      }
    },
    {
      "cell_type": "code",
      "source": [
        "c_ndarray = np.matmul(a_ndarray,b_ndarray)\n",
        "print(c_ndarray)\n",
        "\n",
        "c_ndarray = a_ndarray @ b_ndarray\n",
        "print(c_ndarray)\n",
        "\n",
        "c_ndarray = np.dot(a_ndarray,b_ndarray)\n",
        "print(c_ndarray)\n",
        "\n",
        "# np.dot and np.matmul work differently for arrays greater than 2 dimensions\n",
        "# @ and np.matmul work the same"
      ],
      "metadata": {
        "colab": {
          "base_uri": "https://localhost:8080/"
        },
        "id": "cC6DyWJmorit",
        "outputId": "8114a512-188f-43da-b7c0-0fc27f1a1436"
      },
      "execution_count": 4,
      "outputs": [
        {
          "output_type": "stream",
          "name": "stdout",
          "text": [
            "[[  6  29 -20]\n",
            " [ 12  52  38]\n",
            " [-18 -51 -48]]\n",
            "[[  6  29 -20]\n",
            " [ 12  52  38]\n",
            " [-18 -51 -48]]\n",
            "[[  6  29 -20]\n",
            " [ 12  52  38]\n",
            " [-18 -51 -48]]\n"
          ]
        }
      ]
    },
    {
      "cell_type": "markdown",
      "source": [
        "# **Scratch Implementation of Natrix Multiplication**\n",
        "When doing the calculations by hand, you would probably first look at the 0th row of matrix A and the 0th column of matrix B. Write code that performs this calculation"
      ],
      "metadata": {
        "id": "eQW0nT-wqGFS"
      }
    },
    {
      "cell_type": "code",
      "source": [
        "a = a_ndarray\n",
        "b = b_ndarray\n",
        "\n",
        "c_00 = a[0,0]*b[0,0] + a[0,1]*b[1,0] + a[0,2]*b[2,0]\n",
        "c_10 = a[1,0]*b[0,0] + a[1,1]*b[1,0] + a[1,2]*b[2,0]\n",
        "c_20 = a[2,0]*b[0,0] + a[2,1]*b[1,0] + a[2,2]*b[2,0]\n",
        "\n",
        "c_01 = a[0,0]*b[0,1] + a[0,1]*b[1,1] + a[0,2]*b[2,1]\n",
        "c_11 = a[1,0]*b[0,1] + a[1,1]*b[1,1] + a[1,2]*b[2,1]\n",
        "c_21 = a[2,0]*b[0,1] + a[2,1]*b[1,1] + a[2,2]*b[2,1]\n",
        "\n",
        "c_02 = a[0,0]*b[0,2] + a[0,1]*b[1,2] + a[0,2]*b[2,2]\n",
        "c_12 = a[1,0]*b[0,2] + a[1,1]*b[1,2] + a[1,2]*b[2,2]\n",
        "c_22 = a[2,0]*b[0,2] + a[2,1]*b[1,2] + a[2,2]*b[2,2]"
      ],
      "metadata": {
        "id": "HufLBWH_rbJb"
      },
      "execution_count": 8,
      "outputs": []
    },
    {
      "cell_type": "code",
      "source": [
        "print(c_00)\n",
        "print(c_10)\n",
        "print(c_20)\n",
        "print(c_01)\n",
        "print(c_11)\n",
        "print(c_21)\n",
        "print(c_02)\n",
        "print(c_12)\n",
        "print(c_22)\n"
      ],
      "metadata": {
        "colab": {
          "base_uri": "https://localhost:8080/"
        },
        "id": "qs3WkR-9tYcT",
        "outputId": "133cf074-9011-4de9-a2d5-d30d97a4e0c7"
      },
      "execution_count": 10,
      "outputs": [
        {
          "output_type": "stream",
          "name": "stdout",
          "text": [
            "6\n",
            "12\n",
            "-18\n",
            "29\n",
            "52\n",
            "-51\n",
            "-20\n",
            "38\n",
            "-48\n"
          ]
        }
      ]
    },
    {
      "cell_type": "markdown",
      "source": [
        "# **Creating a function to perform matrix multiplication**\n",
        "Extend the code in problem 3 to complete a scratch implementation of matrix multiplication. Create a function that takes matrices A and B as arguments and returns the matrix product."
      ],
      "metadata": {
        "id": "U_icj6vDv_um"
      }
    },
    {
      "cell_type": "code",
      "source": [
        "def manual_matrix_multiply(a, b):\n",
        "    # Get the shapes\n",
        "    rows_a, cols_a = a.shape\n",
        "    rows_b, cols_b = b.shape\n",
        "\n",
        "    # Initialize result matrix C with zeros\n",
        "    C = np.zeros((rows_a, cols_b))\n",
        "\n",
        "    # Perform the matrix multiplication manually\n",
        "    for i in range(rows_a):           # Loop over rows of A\n",
        "        for j in range(cols_b):       # Loop over columns of B\n",
        "            for k in range(cols_b):   # Loop over elements for dot product\n",
        "                C[i, j] += a[i, k] * b[k, j]\n",
        "\n",
        "    return C\n",
        "print('Matrix product of of a*b:', manual_matrix_multiply(a,b))"
      ],
      "metadata": {
        "colab": {
          "base_uri": "https://localhost:8080/"
        },
        "id": "9CEzU0gcw0Vz",
        "outputId": "72caeff5-9f8d-4ddc-a036-ee228ad910c1"
      },
      "execution_count": 13,
      "outputs": [
        {
          "output_type": "stream",
          "name": "stdout",
          "text": [
            "Matrix product of of a*b: [[  6.  29. -20.]\n",
            " [ 12.  52.  38.]\n",
            " [-18. -51. -48.]]\n"
          ]
        }
      ]
    },
    {
      "cell_type": "markdown",
      "source": [
        "# **Matrix with combinations where matrix multiplication is not defined**"
      ],
      "metadata": {
        "id": "Of3FJo3owatZ"
      }
    },
    {
      "cell_type": "code",
      "source": [
        "d_ndarray = np.array([[-1, 2, 3], [4, -5, 6]])\n",
        "e_ndarray = np.array([[-9, 8, 7], [6, -5, 4]])\n",
        "\n",
        "D = d_ndarray\n",
        "E = e_ndarray"
      ],
      "metadata": {
        "id": "L-MwS5y4x2Hc"
      },
      "execution_count": 15,
      "outputs": []
    },
    {
      "cell_type": "markdown",
      "source": [
        "The matrix multiplication DE is defined when the number of columns in D is equal to the number of rows in E, so it cannot be calculated in this example."
      ],
      "metadata": {
        "id": "YvhFBJQny1p9"
      }
    },
    {
      "cell_type": "markdown",
      "source": [
        "# **Evaluating inputs that are not defined**\n",
        "Depending on how it is implemented, the function created in Problem 4 may still work even if you input the arrays D and E. In this case, an improper calculation will be performed. Also, if an error occurs midway, a message will be displayed that does not directly explain why the error occurred.\n",
        "Please prevent this by using an if statement or similar, and add code that will display if there is a problem with the input format"
      ],
      "metadata": {
        "id": "pA3vH8Oky4lV"
      }
    },
    {
      "cell_type": "code",
      "source": [
        "import numpy as np\n",
        "\n",
        "def manual_matrix_multiply(D, E):\n",
        "    # Get the shapes\n",
        "    rows_D, cols_D = D.shape\n",
        "    rows_E, cols_E = E.shape\n",
        "\n",
        "    # Check if multiplication is possible\n",
        "    if cols_D != rows_E:\n",
        "        print(f\"Error: Cannot multiply matrix D of shape {D.shape} with matrix E of shape {E.shape}.\")\n",
        "        print(\"Number of columns in D must match the number of rows in E.\")\n",
        "        return None\n",
        "\n",
        "    # Initialize result matrix F with zeros\n",
        "    F = np.zeros((rows_D, cols_E))\n",
        "\n",
        "    # Perform the matrix multiplication manually\n",
        "    for i in range(rows_D):           # Loop over rows of A\n",
        "        for j in range(cols_E):       # Loop over columns of B\n",
        "            for k in range(cols_D):   # Loop over elements for dot product\n",
        "                F[i, j] += D[i, k] * E[k, j]\n",
        "\n",
        "    return F\n",
        "print('Matrix Product of D*E:', manual_matrix_multiply(D,E))"
      ],
      "metadata": {
        "colab": {
          "base_uri": "https://localhost:8080/"
        },
        "id": "BLorVbFFzFGc",
        "outputId": "6043366e-dd20-4172-d663-beaa65abf4a3"
      },
      "execution_count": 18,
      "outputs": [
        {
          "output_type": "stream",
          "name": "stdout",
          "text": [
            "Error: Cannot multiply matrix D of shape (2, 3) with matrix E of shape (2, 3).\n",
            "Number of columns in D must match the number of rows in E.\n",
            "Matrix Product of D*E: None\n"
          ]
        }
      ]
    },
    {
      "cell_type": "markdown",
      "source": [
        "# **Transposing**\n",
        "By transposing one of the matrices, we can calculate the matrix product.\n",
        "\n",
        "np.transpose()or .Tattribute, transpose, and compute the matrix product."
      ],
      "metadata": {
        "id": "JHnMowMD0-m6"
      }
    },
    {
      "cell_type": "code",
      "source": [
        "F = np.transpose(E) @ D\n",
        "print(F)"
      ],
      "metadata": {
        "colab": {
          "base_uri": "https://localhost:8080/"
        },
        "id": "8CMaoXFez7v9",
        "outputId": "a1d15953-b9a4-4f66-b5aa-ce70199887d4"
      },
      "execution_count": 19,
      "outputs": [
        {
          "output_type": "stream",
          "name": "stdout",
          "text": [
            "[[ 33 -48   9]\n",
            " [-28  41  -6]\n",
            " [  9  -6  45]]\n"
          ]
        }
      ]
    },
    {
      "cell_type": "code",
      "source": [
        "F = E.T @ D\n",
        "print(F)"
      ],
      "metadata": {
        "colab": {
          "base_uri": "https://localhost:8080/"
        },
        "id": "GlLRq2aG1mb_",
        "outputId": "08f07bb4-c252-4245-9d2a-84c1306fe825"
      },
      "execution_count": 20,
      "outputs": [
        {
          "output_type": "stream",
          "name": "stdout",
          "text": [
            "[[ 33 -48   9]\n",
            " [-28  41  -6]\n",
            " [  9  -6  45]]\n"
          ]
        }
      ]
    },
    {
      "cell_type": "code",
      "source": [],
      "metadata": {
        "id": "fG6YnxsL1uo-"
      },
      "execution_count": null,
      "outputs": []
    }
  ]
}