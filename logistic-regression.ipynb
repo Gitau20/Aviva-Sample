{
 "cells": [
  {
   "cell_type": "markdown",
   "id": "850dbcc6",
   "metadata": {
    "papermill": {
     "duration": 0.006131,
     "end_time": "2025-04-19T13:17:58.391373",
     "exception": false,
     "start_time": "2025-04-19T13:17:58.385242",
     "status": "completed"
    },
    "tags": []
   },
   "source": [
    "# **LOGISTIC REGRESSION**\n",
    "\n",
    "We will create a logistic regression class from scratch. We will implement the algorithm using only a minimum number of libraries such as NumPy. Unlike linear regression, there are two estimation methods: the predict method, which outputs the label, and the predict_proba method, which outputs the probability."
   ]
  },
  {
   "cell_type": "code",
   "execution_count": 1,
   "id": "f846e9a2",
   "metadata": {
    "execution": {
     "iopub.execute_input": "2025-04-19T13:17:58.403110Z",
     "iopub.status.busy": "2025-04-19T13:17:58.402723Z",
     "iopub.status.idle": "2025-04-19T13:17:58.418372Z",
     "shell.execute_reply": "2025-04-19T13:17:58.417424Z"
    },
    "papermill": {
     "duration": 0.023471,
     "end_time": "2025-04-19T13:17:58.420082",
     "exception": false,
     "start_time": "2025-04-19T13:17:58.396611",
     "status": "completed"
    },
    "tags": []
   },
   "outputs": [],
   "source": [
    "import numpy as np\n",
    "\n",
    "class ScratchLogisticRegression():\n",
    "    \"\"\"\n",
    "    Scratch implementation of logistic regression\n",
    "    \"\"\"\n",
    "\n",
    "    def __init__(self, num_iter=1000, lr=0.01, bias=True, verbose=False):\n",
    "        self.iter = num_iter\n",
    "        self.lr = lr\n",
    "        self.bias = bias\n",
    "        self.verbose = verbose\n",
    "        self.coef_ = None\n",
    "        self.loss = np.zeros(self.iter)\n",
    "        self.val_loss = np.zeros(self.iter)\n",
    "\n",
    "    def _sigmoid(self, z):\n",
    "        return 1 / (1 + np.exp(-z))\n",
    "\n",
    "    def _loss(self, y, y_pred):\n",
    "        # Cross-entropy error\n",
    "        epsilon = 1e-15  # for numerical stability\n",
    "        y_pred = np.clip(y_pred, epsilon, 1 - epsilon)\n",
    "        return -np.mean(y * np.log(y_pred) + (1 - y) * np.log(1 - y_pred))\n",
    "\n",
    "    def fit(self, X, y, X_val=None, y_val=None):\n",
    "        # Considering the bias term\n",
    "        if self.bias:\n",
    "            X = np.c_[np.ones(X.shape[0]), X]\n",
    "            if X_val is not None:\n",
    "                X_val = np.c_[np.ones(X_val.shape[0]), X_val]\n",
    "\n",
    "        # Parameter Initialization\n",
    "        self.coef_ = np.zeros(X.shape[1])\n",
    "\n",
    "        for i in range(self.iter):\n",
    "            z = np.dot(X, self.coef_)\n",
    "            y_pred = self._sigmoid(z)\n",
    "\n",
    "            # Gradient descent\n",
    "            gradient = np.dot(X.T, (y_pred - y)) / y.shape[0]\n",
    "            self.coef_ -= self.lr * gradient\n",
    "\n",
    "            # Loss calculation\n",
    "            self.loss[i] = self._loss(y, y_pred)\n",
    "\n",
    "            # If validation data is available, validation loss is also recorded.\n",
    "            if X_val is not None and y_val is not None:\n",
    "                y_val_pred = self._sigmoid(np.dot(X_val, self.coef_))\n",
    "                self.val_loss[i] = self._loss(y_val, y_val_pred)\n",
    "\n",
    "            # verbose Output\n",
    "            if self.verbose and (i % 100 == 0 or i == self.iter - 1):\n",
    "                print(f\"Iteration {i+1}/{self.iter} - Loss: {self.loss[i]:.4f}\", end='')\n",
    "                if X_val is not None:\n",
    "                    print(f\" - Val Loss: {self.val_loss[i]:.4f}\")\n",
    "                else:\n",
    "                    print()\n",
    "\n",
    "    def predict_proba(self, X):\n",
    "        if self.bias:\n",
    "            X = np.c_[np.ones(X.shape[0]), X]\n",
    "        return self._sigmoid(np.dot(X, self.coef_)).reshape(-1, 1)\n",
    "\n",
    "    def predict(self, X):\n",
    "        return (self.predict_proba(X) >= 0.5).astype(int)\n"
   ]
  },
  {
   "cell_type": "markdown",
   "id": "bf03bf10",
   "metadata": {
    "papermill": {
     "duration": 0.004554,
     "end_time": "2025-04-19T13:17:58.429757",
     "exception": false,
     "start_time": "2025-04-19T13:17:58.425203",
     "status": "completed"
    },
    "tags": []
   },
   "source": [
    "# Problem 1: Assumption function\n",
    "Implement the logistic regression assumption function method in the ScratchLogisticRegression class.\n",
    "\n",
    "The logistic regression function is the linear regression function passed through the sigmoid function , which is expressed as follows:\n",
    "\n",
    "g\n",
    "(\n",
    "z\n",
    ")=\n",
    "1\n",
    "1\n",
    "+\n",
    "e\n",
    "−\n",
    "z\n",
    "The assumed function for linear regression was:\n",
    "\n",
    "h\n",
    "θ\n",
    "(\n",
    "x\n",
    ")=\n",
    "θ\n",
    "T\n",
    "⋅\n",
    "x\n",
    "Put together, the logistic regression assumptions are:\n",
    "\n",
    "h\n",
    "θ\n",
    "(\n",
    "x\n",
    ")=\n",
    "1\n",
    "1\n",
    "+\n",
    "e\n",
    "−\n",
    "θ\n",
    "T\n",
    "⋅\n",
    "x\n",
    "$x$ : feature vector\n",
    "\n",
    "$\\theta$ : Parameter (weight) vector"
   ]
  },
  {
   "cell_type": "code",
   "execution_count": 2,
   "id": "3293194e",
   "metadata": {
    "execution": {
     "iopub.execute_input": "2025-04-19T13:17:58.440803Z",
     "iopub.status.busy": "2025-04-19T13:17:58.440474Z",
     "iopub.status.idle": "2025-04-19T13:17:58.446963Z",
     "shell.execute_reply": "2025-04-19T13:17:58.446063Z"
    },
    "papermill": {
     "duration": 0.014327,
     "end_time": "2025-04-19T13:17:58.448902",
     "exception": false,
     "start_time": "2025-04-19T13:17:58.434575",
     "status": "completed"
    },
    "tags": []
   },
   "outputs": [],
   "source": [
    "import numpy as np\n",
    "\n",
    "class ScratchLogisticRegression:\n",
    "    def __init__(self, num_iter=1000, lr=0.01, bias=True, verbose=False, lam=0.0):\n",
    "        \"\"\"\n",
    "        Parameters\n",
    "        ----------\n",
    "        num_iter : int\n",
    "            Number of gradient‐descent iterations\n",
    "        lr : float\n",
    "            Learning rate α\n",
    "        bias : bool\n",
    "            If True, fit an intercept term\n",
    "        verbose : bool\n",
    "            If True, print loss every 100 iters\n",
    "        lam : float\n",
    "            L2 regularization strength λ\n",
    "        \"\"\"\n",
    "        self.num_iter = num_iter\n",
    "        self.lr = lr\n",
    "        self.bias = bias\n",
    "        self.verbose = verbose\n",
    "        self.lam = lam\n",
    "\n",
    "        # Will be initialized in fit()\n",
    "        self.coef_ = None      # θ vector, shape (n_features [+1],)\n",
    "        self.loss = None       # training loss per iteration\n",
    "        self.val_loss = None   # validation loss per iteration (if used)\n",
    "\n",
    "    def _sigmoid(self, z):\n",
    "        return 1 / (1 + np.exp(-z))\n",
    "\n",
    "    def _logistic_hypothesis(self, X):\n",
    "        # hθ(x) = sigmoid(X · θ)\n",
    "        return self._sigmoid(X.dot(self.coef_))"
   ]
  },
  {
   "cell_type": "markdown",
   "id": "e1fb3c48",
   "metadata": {
    "papermill": {
     "duration": 0.004644,
     "end_time": "2025-04-19T13:17:58.459142",
     "exception": false,
     "start_time": "2025-04-19T13:17:58.454498",
     "status": "completed"
    },
    "tags": []
   },
   "source": [
    "# Problem 2: Gradient descent method\n",
    "We will implement training using the gradient descent method. Add the _gradient_descent method for updating the parameters expressed by the following formula, and call it from the fit method.\n",
    "\n",
    "$$θj​:=θj​−α⋅\\frac{∂J(θ)}{∂θ_j}$$\n",
    "$$\\frac{∂J(θ)}{∂θ_0} = \\frac{1}{m}\\sum_{i=1}^{m}(hθ​(x^i)−y^i)x^i_j,j=0$$\n",
    "$$\\frac{∂J(θ)}{∂θ_0} = (\\frac{1}{m}\\sum_{i=1}^{m}(hθ​(x^i)−y^i)x^i_j)+\\frac{\\lambda}{m}|theta_j,j>=0$$\n",
    "\n",
    "　\n",
    "\n",
    "$\\alpha$ : learning rate\n",
    "\n",
    "$i$ : sample index\n",
    "\n",
    "$j$ : Feature index\n",
    "\n",
    "$m$ : number of input data\n",
    "\n",
    "$h_\\theta()$ : Assumption function\n",
    "\n",
    "$x$ : feature vector\n",
    "\n",
    "$\\theta$ : Parameter (weight) vector\n",
    "\n",
    "$x^{(i)}$ : feature vector of the i-th sample\n",
    "\n",
    "$y^{(i)}$ : the correct label for the i-th sample\n",
    "\n",
    "$\\theta_j$ : jth parameter (weight)\n",
    "\n",
    "$λ$ : Regularization parameter\n",
    "\n",
    "The above formula includes a regularization term. The regularization term is used to prevent overfitting. The intercept, $\\theta_0$, is not included in the regularization term so that the coefficients for the features, excluding the intercept, can be discussed from the same perspective."
   ]
  },
  {
   "cell_type": "code",
   "execution_count": 3,
   "id": "b70b6cd4",
   "metadata": {
    "execution": {
     "iopub.execute_input": "2025-04-19T13:17:58.471330Z",
     "iopub.status.busy": "2025-04-19T13:17:58.470624Z",
     "iopub.status.idle": "2025-04-19T13:17:58.476319Z",
     "shell.execute_reply": "2025-04-19T13:17:58.475293Z"
    },
    "papermill": {
     "duration": 0.01376,
     "end_time": "2025-04-19T13:17:58.478149",
     "exception": false,
     "start_time": "2025-04-19T13:17:58.464389",
     "status": "completed"
    },
    "tags": []
   },
   "outputs": [],
   "source": [
    "def _gradient_descent(self, X, y):\n",
    "    \"\"\"\n",
    "    Update self.coef_ using one step of gradient descent.\n",
    "    \"\"\"\n",
    "    m = X.shape[0]\n",
    "    h = self._logistic_hypothesis(X)  # shape (m,)\n",
    "    grad = (X.T.dot(h - y) / m)       # shape (n_features,)\n",
    "    # regularize all but θ_0\n",
    "    reg = np.concatenate([[0], self.lam/m * self.coef_[1:]])\n",
    "    self.coef_ -= self.lr * (grad + reg)"
   ]
  },
  {
   "cell_type": "code",
   "execution_count": 4,
   "id": "d5c4600a",
   "metadata": {
    "execution": {
     "iopub.execute_input": "2025-04-19T13:17:58.489323Z",
     "iopub.status.busy": "2025-04-19T13:17:58.488962Z",
     "iopub.status.idle": "2025-04-19T13:17:58.497271Z",
     "shell.execute_reply": "2025-04-19T13:17:58.496208Z"
    },
    "papermill": {
     "duration": 0.015901,
     "end_time": "2025-04-19T13:17:58.499101",
     "exception": false,
     "start_time": "2025-04-19T13:17:58.483200",
     "status": "completed"
    },
    "tags": []
   },
   "outputs": [],
   "source": [
    "    def fit(self, X, y, X_val=None, y_val=None):\n",
    "        \"\"\"\n",
    "        Train via gradient descent, record train/val loss.\n",
    "        \"\"\"\n",
    "        # Add bias column if requested\n",
    "        if self.bias:\n",
    "            X = np.hstack([np.ones((X.shape[0], 1)), X])\n",
    "            if X_val is not None:\n",
    "                X_val = np.hstack([np.ones((X_val.shape[0], 1)), X_val])\n",
    "\n",
    "        # Initialize parameters and loss records\n",
    "        n_features = X.shape[1]\n",
    "        self.coef_ = np.zeros(n_features)\n",
    "        self.loss = np.zeros(self.num_iter)\n",
    "        self.val_loss = np.zeros(self.num_iter) if X_val is not None else None\n",
    "\n",
    "        for i in range(self.num_iter):\n",
    "            self._gradient_descent(X, y)\n",
    "            self.loss[i] = self._loss_function(X, y)\n",
    "\n",
    "            if X_val is not None and y_val is not None:\n",
    "                self.val_loss[i] = self._loss_function(X_val, y_val)\n",
    "\n",
    "            if self.verbose and i % 100 == 0:\n",
    "                msg = f\"iter {i:4d} — train_loss: {self.loss[i]:.4f}\"\n",
    "                if self.val_loss is not None:\n",
    "                    msg += f\", val_loss: {self.val_loss[i]:.4f}\"\n",
    "                print(msg)\n"
   ]
  },
  {
   "cell_type": "markdown",
   "id": "cbe593c9",
   "metadata": {
    "papermill": {
     "duration": 0.005635,
     "end_time": "2025-04-19T13:17:58.510251",
     "exception": false,
     "start_time": "2025-04-19T13:17:58.504616",
     "status": "completed"
    },
    "tags": []
   },
   "source": [
    "# Problem 3: Estimation\n",
    "We implement the estimation mechanism. Add it to the predict and predict_proba methods included in the ScratchLogisticRegression class template.\n",
    "\n",
    "The output of the hypothesis function $h_\\theta(x)$ is the return value of predict_proba, and a threshold is set on that value, labelling it as 1 or 0, which becomes the return value of predict."
   ]
  },
  {
   "cell_type": "code",
   "execution_count": 5,
   "id": "7bceba25",
   "metadata": {
    "execution": {
     "iopub.execute_input": "2025-04-19T13:17:58.521971Z",
     "iopub.status.busy": "2025-04-19T13:17:58.521686Z",
     "iopub.status.idle": "2025-04-19T13:17:58.526831Z",
     "shell.execute_reply": "2025-04-19T13:17:58.525952Z"
    },
    "papermill": {
     "duration": 0.01261,
     "end_time": "2025-04-19T13:17:58.528605",
     "exception": false,
     "start_time": "2025-04-19T13:17:58.515995",
     "status": "completed"
    },
    "tags": []
   },
   "outputs": [],
   "source": [
    "def predict_proba(self, X):\n",
    "    if self.bias == True:\n",
    "        a = np.ones(X.shape[0]).reshape(X.shape[0], 1)\n",
    "        X = np.hstack([a, X])\n",
    "    pred = self._logistic_hypothesis(X)\n",
    "    return pred"
   ]
  },
  {
   "cell_type": "code",
   "execution_count": 6,
   "id": "3ec385b7",
   "metadata": {
    "execution": {
     "iopub.execute_input": "2025-04-19T13:17:58.540111Z",
     "iopub.status.busy": "2025-04-19T13:17:58.539760Z",
     "iopub.status.idle": "2025-04-19T13:17:58.545127Z",
     "shell.execute_reply": "2025-04-19T13:17:58.544130Z"
    },
    "papermill": {
     "duration": 0.012603,
     "end_time": "2025-04-19T13:17:58.546605",
     "exception": false,
     "start_time": "2025-04-19T13:17:58.534002",
     "status": "completed"
    },
    "tags": []
   },
   "outputs": [],
   "source": [
    "def predict(self, X):\n",
    "    if self.bias == True:\n",
    "        a = np.ones(X.shape[0]).reshape(X.shape[0], 1)\n",
    "        X = np.hstack([a, X])\n",
    "    return np.where(self._logistic_hypothesis(X) >= 0.5, 1, 0)"
   ]
  },
  {
   "cell_type": "markdown",
   "id": "1a44ef31",
   "metadata": {
    "papermill": {
     "duration": 0.004575,
     "end_time": "2025-04-19T13:17:58.556129",
     "exception": false,
     "start_time": "2025-04-19T13:17:58.551554",
     "status": "completed"
    },
    "tags": []
   },
   "source": [
    "# Problem 4: Objective function\n",
    "We implement the objective function (loss function) for logistic regression expressed by the following formula . And self.lossrecord this self.val_lossin .\n",
    "\n",
    "This formula includes a regularization term.\n",
    "\n",
    "$$J(θ) = \\frac{1}{m}\\sum_{i=1}^{m}[-y^ilog(hθ​(x^i)−(1-y^i)log(1 - hθ​(x^i)]+\\frac{\\lambda}{2m}\\sum_{j=1}^{n}\\theta_j^2$$\n",
    "\n",
    "$m$ : number of input data\n",
    "\n",
    "$h_\\theta()$ : Assumption function\n",
    "\n",
    "$x$ : feature vector\n",
    "\n",
    "$\\theta$ : Parameter (weight) vector\n",
    "\n",
    "$x^{(i)}$ : feature vector of the i-th sample\n",
    "\n",
    "$y^{(i)}$ : the correct label for the i-th sample"
   ]
  },
  {
   "cell_type": "code",
   "execution_count": 7,
   "id": "9fc93cb5",
   "metadata": {
    "execution": {
     "iopub.execute_input": "2025-04-19T13:17:58.568467Z",
     "iopub.status.busy": "2025-04-19T13:17:58.568186Z",
     "iopub.status.idle": "2025-04-19T13:17:58.573712Z",
     "shell.execute_reply": "2025-04-19T13:17:58.572880Z"
    },
    "papermill": {
     "duration": 0.013584,
     "end_time": "2025-04-19T13:17:58.575094",
     "exception": false,
     "start_time": "2025-04-19T13:17:58.561510",
     "status": "completed"
    },
    "tags": []
   },
   "outputs": [],
   "source": [
    "def _loss_func(self, pred, y):\n",
    "    error = 0\n",
    "    for i in range(y.shape[0]):\n",
    "        error += -np.sum(y[i] *  np.log(pred[i])+(1-y[i]) *  np.log(1-pred[i]))\n",
    "    loss = error / (y.shape[0])\n",
    "    loss = loss + np.sum(self.theta**2)*self.lam/(2 * y.shape[0])\n",
    "    return loss"
   ]
  },
  {
   "cell_type": "code",
   "execution_count": 8,
   "id": "b2e42ae6",
   "metadata": {
    "execution": {
     "iopub.execute_input": "2025-04-19T13:17:58.586555Z",
     "iopub.status.busy": "2025-04-19T13:17:58.586261Z",
     "iopub.status.idle": "2025-04-19T13:17:58.591858Z",
     "shell.execute_reply": "2025-04-19T13:17:58.591058Z"
    },
    "papermill": {
     "duration": 0.013168,
     "end_time": "2025-04-19T13:17:58.593340",
     "exception": false,
     "start_time": "2025-04-19T13:17:58.580172",
     "status": "completed"
    },
    "tags": []
   },
   "outputs": [],
   "source": [
    "    def _loss_function(self, X, y):\n",
    "        \"\"\"\n",
    "        J(θ) = CE loss + (λ / (2m)) * sum_{j=1}^n θ_j^2\n",
    "        (bias θ_0 is not regularized)\n",
    "        \"\"\"\n",
    "        m = len(y)\n",
    "        h = self._logistic_hypothesis(X)\n",
    "        # avoid log(0)\n",
    "        h = np.clip(h, 1e-10, 1 - 1e-10)\n",
    "        ce = -np.mean(y * np.log(h) + (1 - y) * np.log(1 - h))\n",
    "        reg = (self.lam / (2 * m)) * np.sum(self.coef_[1:]**2)\n",
    "        return ce + reg"
   ]
  },
  {
   "cell_type": "code",
   "execution_count": 9,
   "id": "d42ac906",
   "metadata": {
    "execution": {
     "iopub.execute_input": "2025-04-19T13:17:58.604506Z",
     "iopub.status.busy": "2025-04-19T13:17:58.604214Z",
     "iopub.status.idle": "2025-04-19T13:17:58.616220Z",
     "shell.execute_reply": "2025-04-19T13:17:58.614902Z"
    },
    "papermill": {
     "duration": 0.019504,
     "end_time": "2025-04-19T13:17:58.617874",
     "exception": false,
     "start_time": "2025-04-19T13:17:58.598370",
     "status": "completed"
    },
    "tags": []
   },
   "outputs": [],
   "source": [
    "# Updating the fit()\n",
    "import numpy as np\n",
    "\n",
    "class ScratchLogisticRegression:\n",
    "    def __init__(self, num_iter=1000, lr=0.01, bias=True, verbose=False, lam=0.0):\n",
    "        self.num_iter = num_iter\n",
    "        self.lr = lr\n",
    "        self.bias = bias\n",
    "        self.verbose = verbose\n",
    "        self.lam = lam\n",
    "        self.coef_ = None\n",
    "        self.loss = None\n",
    "        self.val_loss = None\n",
    "\n",
    "    def _sigmoid(self, z):\n",
    "        return 1 / (1 + np.exp(-z))\n",
    "\n",
    "    def _logistic_hypothesis(self, X):\n",
    "        return self._sigmoid(X.dot(self.coef_))\n",
    "\n",
    "    def _loss_function(self, X, y):\n",
    "        m = len(y)\n",
    "        h = np.clip(self._logistic_hypothesis(X), 1e-10, 1 - 1e-10)\n",
    "        ce = -np.mean(y * np.log(h) + (1 - y) * np.log(1 - h))\n",
    "        reg = (self.lam/(2*m)) * np.sum(self.coef_[1:]**2)\n",
    "        return ce + reg\n",
    "\n",
    "    def _gradient_descent(self, X, y):\n",
    "        m = X.shape[0]\n",
    "        h = self._logistic_hypothesis(X)\n",
    "        grad = X.T.dot(h - y) / m\n",
    "        reg = np.concatenate([[0], (self.lam/m)*self.coef_[1:]])\n",
    "        self.coef_ -= self.lr * (grad + reg)\n",
    "\n",
    "    def fit(self, X, y, X_val=None, y_val=None):\n",
    "        # — Add bias column if requested\n",
    "        if self.bias:\n",
    "            X = np.hstack([np.ones((X.shape[0],1)), X])\n",
    "            if X_val is not None:\n",
    "                X_val = np.hstack([np.ones((X_val.shape[0],1)), X_val])\n",
    "\n",
    "        # — Initialize\n",
    "        self.coef_ = np.zeros(X.shape[1])\n",
    "        self.loss = np.zeros(self.num_iter)\n",
    "        self.val_loss = np.zeros(self.num_iter) if X_val is not None else None\n",
    "\n",
    "        for i in range(self.num_iter):\n",
    "            self._gradient_descent(X, y)\n",
    "            self.loss[i] = self._loss_function(X, y)\n",
    "            if self.val_loss is not None:\n",
    "                self.val_loss[i] = self._loss_function(X_val, y_val)\n",
    "            if self.verbose and i % 100 == 0:\n",
    "                msg = f\"iter {i:4d} — train_loss: {self.loss[i]:.4f}\"\n",
    "                if self.val_loss is not None:\n",
    "                    msg += f\", val_loss: {self.val_loss[i]:.4f}\"\n",
    "                print(msg)"
   ]
  },
  {
   "cell_type": "markdown",
   "id": "ba58c456",
   "metadata": {
    "papermill": {
     "duration": 0.005591,
     "end_time": "2025-04-19T13:17:58.628881",
     "exception": false,
     "start_time": "2025-04-19T13:17:58.623290",
     "status": "completed"
    },
    "tags": []
   },
   "source": [
    "# Problem 5: Learning and estimation\n",
    "Train and infer a Scratch implementation for the binary classification of virgicolor and virginica in the iris dataset prepared in the Introduction to Machine Learning Scratch Sprint.\n",
    "\n",
    "- check that it works correctly by comparing it with the implementation by scikit-learn.\n",
    "\n",
    "- use scikit-learn for metrics such as Accuracy, Precision, and Recall."
   ]
  },
  {
   "cell_type": "code",
   "execution_count": 10,
   "id": "32e06409",
   "metadata": {
    "execution": {
     "iopub.execute_input": "2025-04-19T13:17:58.642788Z",
     "iopub.status.busy": "2025-04-19T13:17:58.642398Z",
     "iopub.status.idle": "2025-04-19T13:18:02.694672Z",
     "shell.execute_reply": "2025-04-19T13:18:02.693738Z"
    },
    "papermill": {
     "duration": 4.060824,
     "end_time": "2025-04-19T13:18:02.696455",
     "exception": false,
     "start_time": "2025-04-19T13:17:58.635631",
     "status": "completed"
    },
    "tags": []
   },
   "outputs": [],
   "source": [
    "import numpy as np\n",
    "import pandas as pd\n",
    "from sklearn.datasets import load_iris\n",
    "from sklearn.model_selection import train_test_split\n",
    "from sklearn.linear_model import LogisticRegression\n",
    "from sklearn.metrics import accuracy_score, precision_score, recall_score\n",
    "\n",
    "# Scratch implementation\n",
    "class ScratchLogisticRegression:\n",
    "    def __init__(self, num_iter=1000, lr=0.01, bias=True, verbose=False, lam=0.0):\n",
    "        self.num_iter = num_iter\n",
    "        self.lr = lr\n",
    "        self.bias = bias\n",
    "        self.verbose = verbose\n",
    "        self.lam = lam\n",
    "        self.coef_ = None\n",
    "        self.loss = None\n",
    "        self.val_loss = None\n",
    "\n",
    "    def _sigmoid(self, z):\n",
    "        return 1 / (1 + np.exp(-z))\n",
    "\n",
    "    def _logistic_hypothesis(self, X):\n",
    "        return self._sigmoid(X.dot(self.coef_))\n",
    "\n",
    "    def _loss_function(self, X, y):\n",
    "        m = len(y)\n",
    "        h = np.clip(self._logistic_hypothesis(X), 1e-10, 1 - 1e-10)\n",
    "        ce = -np.mean(y * np.log(h) + (1 - y) * np.log(1 - h))\n",
    "        reg = (self.lam / (2 * m)) * np.sum(self.coef_[1:]**2)\n",
    "        return ce + reg\n",
    "\n",
    "    def _gradient_descent(self, X, y):\n",
    "        m = X.shape[0]\n",
    "        h = self._logistic_hypothesis(X)\n",
    "        grad = X.T.dot(h - y) / m\n",
    "        reg = np.concatenate([[0], (self.lam/m)*self.coef_[1:]])\n",
    "        self.coef_ -= self.lr * (grad + reg)\n",
    "\n",
    "    def fit(self, X, y, X_val=None, y_val=None):\n",
    "        if self.bias:\n",
    "            X = np.hstack([np.ones((X.shape[0], 1)), X])\n",
    "            if X_val is not None:\n",
    "                X_val = np.hstack([np.ones((X_val.shape[0], 1)), X_val])\n",
    "        self.coef_ = np.zeros(X.shape[1])\n",
    "        self.loss = np.zeros(self.num_iter)\n",
    "        self.val_loss = np.zeros(self.num_iter) if X_val is not None else None\n",
    "        for i in range(self.num_iter):\n",
    "            self._gradient_descent(X, y)\n",
    "            self.loss[i] = self._loss_function(X, y)\n",
    "            if self.val_loss is not None:\n",
    "                self.val_loss[i] = self._loss_function(X_val, y_val)\n",
    "            if self.verbose and i % 100 == 0:\n",
    "                msg = f\"iter {i:4d} — train_loss: {self.loss[i]:.4f}\"\n",
    "                if self.val_loss is not None:\n",
    "                    msg += f\", val_loss: {self.val_loss[i]:.4f}\"\n",
    "                print(msg)\n",
    "\n",
    "    def predict_proba(self, X):\n",
    "        if self.bias:\n",
    "            X = np.hstack([np.ones((X.shape[0], 1)), X])\n",
    "        return self._logistic_hypothesis(X)\n",
    "\n",
    "    def predict(self, X, threshold=0.5):\n",
    "        return (self.predict_proba(X) >= threshold).astype(int)\n",
    "\n",
    "    def predict_proba_full(self, X):\n",
    "        p1 = self.predict_proba(X).reshape(-1, 1)\n",
    "        return np.hstack([p1, 1 - p1])"
   ]
  },
  {
   "cell_type": "code",
   "execution_count": 11,
   "id": "958ea9cf",
   "metadata": {
    "execution": {
     "iopub.execute_input": "2025-04-19T13:18:02.709032Z",
     "iopub.status.busy": "2025-04-19T13:18:02.707958Z",
     "iopub.status.idle": "2025-04-19T13:18:02.725494Z",
     "shell.execute_reply": "2025-04-19T13:18:02.724335Z"
    },
    "papermill": {
     "duration": 0.025325,
     "end_time": "2025-04-19T13:18:02.727290",
     "exception": false,
     "start_time": "2025-04-19T13:18:02.701965",
     "status": "completed"
    },
    "tags": []
   },
   "outputs": [],
   "source": [
    "# Load Iris and subset to Versicolor and Virginica\n",
    "iris = load_iris()\n",
    "X = iris.data\n",
    "y = iris.target\n",
    "mask = (y == 1) | (y == 2)  # versicolor=1, virginica=2\n",
    "X = X[mask]\n",
    "y = y[mask]\n",
    "y = (y == 2).astype(int)  # virginica -> 1, versicolor -> 0\n",
    "\n",
    "# Train/test split\n",
    "X_train, X_test, y_train, y_test = train_test_split(\n",
    "    X, y, test_size=0.2, random_state=42, stratify=y\n",
    ")\n"
   ]
  },
  {
   "cell_type": "code",
   "execution_count": 12,
   "id": "9065274c",
   "metadata": {
    "execution": {
     "iopub.execute_input": "2025-04-19T13:18:02.739062Z",
     "iopub.status.busy": "2025-04-19T13:18:02.738710Z",
     "iopub.status.idle": "2025-04-19T13:18:02.992142Z",
     "shell.execute_reply": "2025-04-19T13:18:02.991311Z"
    },
    "papermill": {
     "duration": 0.26162,
     "end_time": "2025-04-19T13:18:02.994369",
     "exception": false,
     "start_time": "2025-04-19T13:18:02.732749",
     "status": "completed"
    },
    "tags": []
   },
   "outputs": [
    {
     "name": "stdout",
     "output_type": "stream",
     "text": [
      "iter    0 — train_loss: 0.6886, val_loss: 0.6896\n",
      "iter  100 — train_loss: 0.4312, val_loss: 0.4607\n",
      "iter  200 — train_loss: 0.3302, val_loss: 0.3739\n",
      "iter  300 — train_loss: 0.2788, val_loss: 0.3332\n",
      "iter  400 — train_loss: 0.2481, val_loss: 0.3118\n",
      "iter  500 — train_loss: 0.2278, val_loss: 0.2999\n",
      "iter  600 — train_loss: 0.2135, val_loss: 0.2931\n",
      "iter  700 — train_loss: 0.2029, val_loss: 0.2894\n",
      "iter  800 — train_loss: 0.1948, val_loss: 0.2876\n",
      "iter  900 — train_loss: 0.1884, val_loss: 0.2870\n",
      "iter 1000 — train_loss: 0.1832, val_loss: 0.2872\n",
      "iter 1100 — train_loss: 0.1790, val_loss: 0.2879\n",
      "iter 1200 — train_loss: 0.1754, val_loss: 0.2890\n",
      "iter 1300 — train_loss: 0.1724, val_loss: 0.2903\n",
      "iter 1400 — train_loss: 0.1698, val_loss: 0.2918\n",
      "iter 1500 — train_loss: 0.1676, val_loss: 0.2933\n",
      "iter 1600 — train_loss: 0.1657, val_loss: 0.2949\n",
      "iter 1700 — train_loss: 0.1640, val_loss: 0.2965\n",
      "iter 1800 — train_loss: 0.1625, val_loss: 0.2981\n",
      "iter 1900 — train_loss: 0.1612, val_loss: 0.2997\n"
     ]
    },
    {
     "data": {
      "text/plain": [
       "array([1, 1, 1, 1, 0, 0, 0, 1, 0, 0, 0, 1, 0, 0, 0, 1, 0, 0, 0, 1])"
      ]
     },
     "execution_count": 12,
     "metadata": {},
     "output_type": "execute_result"
    }
   ],
   "source": [
    "# Scratch model training\n",
    "slr = ScratchLogisticRegression(num_iter=2000, lr=0.1, bias=True, verbose=True,lam=0.1)\n",
    "slr.fit(X_train, y_train, X_test, y_test)\n",
    "y_pred_scratch = slr.predict(X_test)\n",
    "\n",
    "# sklearn logistic regression\n",
    "clf = LogisticRegression()\n",
    "clf.fit(X_train, y_train)\n",
    "y_pred_sklearn = clf.predict(X_test)\n",
    "y_pred_sklearn"
   ]
  },
  {
   "cell_type": "code",
   "execution_count": 13,
   "id": "2772b58f",
   "metadata": {
    "execution": {
     "iopub.execute_input": "2025-04-19T13:18:03.012945Z",
     "iopub.status.busy": "2025-04-19T13:18:03.012601Z",
     "iopub.status.idle": "2025-04-19T13:18:03.047376Z",
     "shell.execute_reply": "2025-04-19T13:18:03.046557Z"
    },
    "papermill": {
     "duration": 0.047009,
     "end_time": "2025-04-19T13:18:03.049734",
     "exception": false,
     "start_time": "2025-04-19T13:18:03.002725",
     "status": "completed"
    },
    "tags": []
   },
   "outputs": [
    {
     "name": "stdout",
     "output_type": "stream",
     "text": [
      "  Model  Accuracy  Precision  Recall\n",
      "Scratch       0.9   0.833333     1.0\n",
      "sklearn       0.9   1.000000     0.8\n"
     ]
    }
   ],
   "source": [
    "# Compute metrics\n",
    "results = []\n",
    "for name, y_pred in [(\"Scratch\", y_pred_scratch), (\"sklearn\", y_pred_sklearn)]:\n",
    "    results.append({\n",
    "        \"Model\": name,\n",
    "        \"Accuracy\": accuracy_score(y_test, y_pred),\n",
    "        \"Precision\": precision_score(y_test, y_pred),\n",
    "        \"Recall\": recall_score(y_test, y_pred)\n",
    "    })\n",
    "\n",
    "df_results = pd.DataFrame(results)\n",
    "\n",
    "# Print comparison table\n",
    "print(df_results.to_string(index=False))"
   ]
  },
  {
   "cell_type": "markdown",
   "id": "7074b2ad",
   "metadata": {
    "papermill": {
     "duration": 0.008926,
     "end_time": "2025-04-19T13:18:03.067678",
     "exception": false,
     "start_time": "2025-04-19T13:18:03.058752",
     "status": "completed"
    },
    "tags": []
   },
   "source": [
    "Overall accuracy is identical demonstrating that scratch implementation is sound. The precision and recall trade-off differs."
   ]
  },
  {
   "cell_type": "markdown",
   "id": "a4db6498",
   "metadata": {
    "papermill": {
     "duration": 0.007812,
     "end_time": "2025-04-19T13:18:03.083819",
     "exception": false,
     "start_time": "2025-04-19T13:18:03.076007",
     "status": "completed"
    },
    "tags": []
   },
   "source": [
    "# Problem 6: Plotting the learning curve\n",
    "Looking at the learning curve and we see that the losses are dropping appropriately."
   ]
  },
  {
   "cell_type": "code",
   "execution_count": 14,
   "id": "35ab0d3c",
   "metadata": {
    "execution": {
     "iopub.execute_input": "2025-04-19T13:18:03.103218Z",
     "iopub.status.busy": "2025-04-19T13:18:03.102848Z",
     "iopub.status.idle": "2025-04-19T13:18:03.462226Z",
     "shell.execute_reply": "2025-04-19T13:18:03.461155Z"
    },
    "papermill": {
     "duration": 0.371617,
     "end_time": "2025-04-19T13:18:03.464120",
     "exception": false,
     "start_time": "2025-04-19T13:18:03.092503",
     "status": "completed"
    },
    "tags": []
   },
   "outputs": [
    {
     "data": {
      "text/plain": [
       "<matplotlib.legend.Legend at 0x79e78eb288d0>"
      ]
     },
     "execution_count": 14,
     "metadata": {},
     "output_type": "execute_result"
    },
    {
     "data": {
      "image/png": "[encoded data removed]",
      "text/plain": [
       "<Figure size 640x480 with 1 Axes>"
      ]
     },
     "metadata": {},
     "output_type": "display_data"
    }
   ],
   "source": [
    "import matplotlib.pyplot as plt\n",
    "%matplotlib inline\n",
    "plt.plot(slr.loss, linewidth=6, label='Training Loss')\n",
    "plt.plot(slr.val_loss, linewidth=6, label='Validation Loss')\n",
    "plt.xlabel('Iteration')\n",
    "plt.ylabel('Loss')\n",
    "plt.title('Learning Curve for Scratch Logistic Regression')\n",
    "plt.legend()"
   ]
  },
  {
   "cell_type": "markdown",
   "id": "0e8a2c68",
   "metadata": {
    "papermill": {
     "duration": 0.006432,
     "end_time": "2025-04-19T13:18:03.476929",
     "exception": false,
     "start_time": "2025-04-19T13:18:03.470497",
     "status": "completed"
    },
    "tags": []
   },
   "source": [
    "# Problem 7: Visualization of decision regions\n",
    "Visualize the decision area. The following is a reference diagram. It is plotted on the horizontal sepal widthand vertical axes . <a href=https://t.gyazo.com/teams/diveintocode/aafff9ec9c965ab15ceebde563eead22.png><img src=https://t.gyazo.com/teams/diveintocode/aafff9ec9c965ab15ceebde563eead22.png alt=”Image from Gyazo” width=”400”/></a>petal length\n",
    "\n",
    "Since there are four explanatory variables, it is not possible to depict the decision region in two dimensions.\n",
    "\n",
    "np.meshgridThis can be implemented by using a model trained with only two features for drawing, or by using a function to draw the decision region .\n",
    "\n",
    "It is easier to train and draw using only two features, so I recommend that."
   ]
  },
  {
   "cell_type": "code",
   "execution_count": 15,
   "id": "778d3a98",
   "metadata": {
    "execution": {
     "iopub.execute_input": "2025-04-19T13:18:03.490859Z",
     "iopub.status.busy": "2025-04-19T13:18:03.490495Z",
     "iopub.status.idle": "2025-04-19T13:18:04.149491Z",
     "shell.execute_reply": "2025-04-19T13:18:04.148333Z"
    },
    "papermill": {
     "duration": 0.667702,
     "end_time": "2025-04-19T13:18:04.151097",
     "exception": false,
     "start_time": "2025-04-19T13:18:03.483395",
     "status": "completed"
    },
    "tags": []
   },
   "outputs": [
    {
     "name": "stdout",
     "output_type": "stream",
     "text": [
      "iter    0 — train_loss: 0.6930, val_loss: 0.6932\n",
      "iter  100 — train_loss: 0.6832, val_loss: 0.6977\n",
      "iter  200 — train_loss: 0.6766, val_loss: 0.6956\n",
      "iter  300 — train_loss: 0.6704, val_loss: 0.6906\n",
      "iter  400 — train_loss: 0.6644, val_loss: 0.6845\n",
      "iter  500 — train_loss: 0.6585, val_loss: 0.6780\n",
      "iter  600 — train_loss: 0.6527, val_loss: 0.6715\n",
      "iter  700 — train_loss: 0.6470, val_loss: 0.6651\n",
      "iter  800 — train_loss: 0.6414, val_loss: 0.6588\n",
      "iter  900 — train_loss: 0.6359, val_loss: 0.6525\n",
      "iter 1000 — train_loss: 0.6304, val_loss: 0.6463\n",
      "iter 1100 — train_loss: 0.6250, val_loss: 0.6403\n",
      "iter 1200 — train_loss: 0.6198, val_loss: 0.6343\n",
      "iter 1300 — train_loss: 0.6145, val_loss: 0.6285\n",
      "iter 1400 — train_loss: 0.6094, val_loss: 0.6227\n",
      "iter 1500 — train_loss: 0.6044, val_loss: 0.6171\n",
      "iter 1600 — train_loss: 0.5994, val_loss: 0.6115\n",
      "iter 1700 — train_loss: 0.5945, val_loss: 0.6060\n",
      "iter 1800 — train_loss: 0.5897, val_loss: 0.6006\n",
      "iter 1900 — train_loss: 0.5850, val_loss: 0.5953\n"
     ]
    },
    {
     "data": {
      "image/png": "[encoded data removed]",
      "text/plain": [
       "<Figure size 640x480 with 1 Axes>"
      ]
     },
     "metadata": {},
     "output_type": "display_data"
    }
   ],
   "source": [
    "import numpy as np\n",
    "import matplotlib.pyplot as plt\n",
    "from matplotlib.colors import ListedColormap\n",
    "from sklearn.datasets import load_iris\n",
    "from sklearn.model_selection import train_test_split\n",
    "\n",
    "# Load data: first 100 samples, first two features (setosa vs. versicolor)\n",
    "iris = load_iris()\n",
    "X = iris.data[:100, :2]\n",
    "y = iris.target[:100]\n",
    "\n",
    "# Train/test split\n",
    "X_train, X_test, y_train, y_test = train_test_split(X, y, test_size=0.2, random_state=42)\n",
    "\n",
    "# Instantiate and train scratch logistic regression\n",
    "slr = ScratchLogisticRegression(num_iter=2000, lr=0.001, bias=True, verbose=True, lam=0.1)\n",
    "slr.fit(X_train, y_train, X_test, y_test)\n",
    "\n",
    "def decision_region(X, y, slr, padding=0.5, step=0.01):\n",
    "    # Compute min/max with padding\n",
    "    x_min, x_max = X[:, 0].min() - padding, X[:, 0].max() + padding\n",
    "    y_min, y_max = X[:, 1].min() - padding, X[:, 1].max() + padding\n",
    "\n",
    "    # Create meshgrid over the extended range\n",
    "    mesh_f0, mesh_f1 = np.meshgrid(\n",
    "        np.arange(x_min, x_max, step),\n",
    "        np.arange(y_min, y_max, step)\n",
    "    )\n",
    "    mesh = np.c_[mesh_f0.ravel(), mesh_f1.ravel()]\n",
    "\n",
    "    # Predict and reshape\n",
    "    y_pred = slr.predict(mesh).reshape(mesh_f0.shape)\n",
    "\n",
    "    # Plot\n",
    "    plt.figure()\n",
    "    plt.title('Decision Region')\n",
    "    plt.xlabel('Feature 0')\n",
    "    plt.ylabel('Feature 1')\n",
    "\n",
    "    # Fill regions and boundary\n",
    "    plt.contourf(mesh_f0, mesh_f1, y_pred, \n",
    "                 cmap=ListedColormap(['pink', 'skyblue']), alpha=0.5)\n",
    "    plt.contour(mesh_f0, mesh_f1, y_pred, colors='red', linewidths=0.5)\n",
    "\n",
    "    # Scatter points\n",
    "    plt.scatter(X[y == 0, 0], X[y == 0, 1], label='Class 0', edgecolor='k')\n",
    "    plt.scatter(X[y == 1, 0], X[y == 1, 1], label='Class 1', edgecolor='k')\n",
    "\n",
    "    # Explicitly set limits to match mesh\n",
    "    plt.xlim(x_min, x_max)\n",
    "    plt.ylim(y_min, y_max)\n",
    "\n",
    "    plt.legend()\n",
    "    plt.show()\n",
    "\n",
    "# Plot decision region on the entire dataset\n",
    "decision_region(X, y, slr)"
   ]
  },
  {
   "cell_type": "markdown",
   "id": "79113f4f",
   "metadata": {
    "papermill": {
     "duration": 0.006517,
     "end_time": "2025-04-19T13:18:04.164891",
     "exception": false,
     "start_time": "2025-04-19T13:18:04.158374",
     "status": "completed"
    },
    "tags": []
   },
   "source": [
    "# Problem 8: (Advanced) Preserving weights\n",
    "To make it easier to verify, let's make it possible to save and load the learned weights. We can use the pickle module or NumPy's np.savez."
   ]
  },
  {
   "cell_type": "code",
   "execution_count": 16,
   "id": "812d0cdf",
   "metadata": {
    "execution": {
     "iopub.execute_input": "2025-04-19T13:18:04.179826Z",
     "iopub.status.busy": "2025-04-19T13:18:04.179494Z",
     "iopub.status.idle": "2025-04-19T13:18:04.193539Z",
     "shell.execute_reply": "2025-04-19T13:18:04.192784Z"
    },
    "papermill": {
     "duration": 0.023409,
     "end_time": "2025-04-19T13:18:04.194918",
     "exception": false,
     "start_time": "2025-04-19T13:18:04.171509",
     "status": "completed"
    },
    "tags": []
   },
   "outputs": [],
   "source": [
    "# Adding to the ScratchLogisticRegression class\n",
    "# Save method\n",
    "class ScratchLogisticRegression:\n",
    "    def __init__(self, num_iter=1000, lr=0.01, bias=True, verbose=False, lam=0.0):\n",
    "        self.num_iter = num_iter\n",
    "        self.lr = lr\n",
    "        self.bias = bias\n",
    "        self.verbose = verbose\n",
    "        self.lam = lam\n",
    "        self.coef_ = None\n",
    "        self.loss = None\n",
    "        self.val_loss = None\n",
    "\n",
    "    def _sigmoid(self, z):\n",
    "        return 1 / (1 + np.exp(-z))\n",
    "\n",
    "    def _logistic_hypothesis(self, X):\n",
    "        return self._sigmoid(X.dot(self.coef_))\n",
    "\n",
    "    def save_weights(self, filepath=\"weights.npz\"):\n",
    "        \"\"\"\n",
    "        Save the learned weights to a file using numpy.\n",
    "        \"\"\"\n",
    "        if self.coef_ is not None:\n",
    "            np.savez(filepath, coef=self.coef_)\n",
    "            print(f\"Weights saved to {filepath}\")\n",
    "        else:\n",
    "            print(\"No weights to save.\")\n",
    "\n",
    "    def load_weights(self, filepath=\"weights.npz\"):\n",
    "        \"\"\"\n",
    "        Load the learned weights from a file using numpy.\n",
    "        \"\"\"\n",
    "        data = np.load(filepath)\n",
    "        self.coef_ = data['coef']\n",
    "        print(f\"Weights loaded from {filepath}\")\n",
    "\n",
    "    def _loss_function(self, X, y):\n",
    "        m = len(y)\n",
    "        h = np.clip(self._logistic_hypothesis(X), 1e-10, 1 - 1e-10)\n",
    "        ce = -np.mean(y * np.log(h) + (1 - y) * np.log(1 - h))\n",
    "        reg = (self.lam / (2 * m)) * np.sum(self.coef_[1:]**2)\n",
    "        return ce + reg\n",
    "    def _gradient_descent(self, X, y):\n",
    "        m = X.shape[0]\n",
    "        h = self._logistic_hypothesis(X)\n",
    "        grad = X.T.dot(h - y) / m\n",
    "        reg = np.concatenate([[0], (self.lam/m)*self.coef_[1:]])\n",
    "        self.coef_ -= self.lr * (grad + reg)\n",
    "\n",
    "    def fit(self, X, y, X_val=None, y_val=None):\n",
    "        if self.bias:\n",
    "            X = np.hstack([np.ones((X.shape[0], 1)), X])\n",
    "            if X_val is not None:\n",
    "                X_val = np.hstack([np.ones((X_val.shape[0], 1)), X_val])\n",
    "        self.coef_ = np.zeros(X.shape[1])\n",
    "        self.loss = np.zeros(self.num_iter)\n",
    "        self.val_loss = np.zeros(self.num_iter) if X_val is not None else None\n",
    "        for i in range(self.num_iter):\n",
    "            self._gradient_descent(X, y)\n",
    "            self.loss[i] = self._loss_function(X, y)\n",
    "            if self.val_loss is not None:\n",
    "                self.val_loss[i] = self._loss_function(X_val, y_val)\n",
    "            if self.verbose and i % 100 == 0:\n",
    "                msg = f\"iter {i:4d} — train_loss: {self.loss[i]:.4f}\"\n",
    "                if self.val_loss is not None:\n",
    "                    msg += f\", val_loss: {self.val_loss[i]:.4f}\"\n",
    "                print(msg)\n",
    "\n"
   ]
  },
  {
   "cell_type": "code",
   "execution_count": 17,
   "id": "13fe46b6",
   "metadata": {
    "execution": {
     "iopub.execute_input": "2025-04-19T13:18:04.209831Z",
     "iopub.status.busy": "2025-04-19T13:18:04.209518Z",
     "iopub.status.idle": "2025-04-19T13:18:04.318425Z",
     "shell.execute_reply": "2025-04-19T13:18:04.317349Z"
    },
    "papermill": {
     "duration": 0.117953,
     "end_time": "2025-04-19T13:18:04.320020",
     "exception": false,
     "start_time": "2025-04-19T13:18:04.202067",
     "status": "completed"
    },
    "tags": []
   },
   "outputs": [
    {
     "name": "stdout",
     "output_type": "stream",
     "text": [
      "Weights saved to logreg_weights.npz\n",
      "Weights loaded from logreg_weights.npz\n"
     ]
    }
   ],
   "source": [
    "slr = ScratchLogisticRegression()\n",
    "slr.fit(X_train, y_train, X_test, y_test)\n",
    "slr.save_weights(\"logreg_weights.npz\")\n",
    "\n",
    "# Later or elsewhere\n",
    "slr2 = ScratchLogisticRegression()\n",
    "slr2.load_weights(\"logreg_weights.npz\")"
   ]
  }
 ],
 "metadata": {
  "kaggle": {
   "accelerator": "none",
   "dataSources": [],
   "dockerImageVersionId": 31012,
   "isGpuEnabled": false,
   "isInternetEnabled": true,
   "language": "python",
   "sourceType": "notebook"
  },
  "kernelspec": {
   "display_name": "Python 3",
   "language": "python",
   "name": "python3"
  },
  "language_info": {
   "codemirror_mode": {
    "name": "ipython",
    "version": 3
   },
   "file_extension": ".py",
   "mimetype": "text/x-python",
   "name": "python",
   "nbconvert_exporter": "python",
   "pygments_lexer": "ipython3",
   "version": "3.11.11"
  },
  "papermill": {
   "default_parameters": {},
   "duration": 11.87603,
   "end_time": "2025-04-19T13:18:05.050462",
   "environment_variables": {},
   "exception": null,
   "input_path": "__notebook__.ipynb",
   "output_path": "__notebook__.ipynb",
   "parameters": {},
   "start_time": "2025-04-19T13:17:53.174432",
   "version": "2.6.0"
  }
 },
 "nbformat": 4,
 "nbformat_minor": 5
}
